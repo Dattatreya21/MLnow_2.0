{
  "nbformat": 4,
  "nbformat_minor": 0,
  "metadata": {
    "colab": {
      "name": "univariate_linear_regression.ipynb",
      "provenance": [],
      "collapsed_sections": [],
      "authorship_tag": "ABX9TyPoVcDN2wX7NT4cU+C2A+XF",
      "include_colab_link": true
    },
    "kernelspec": {
      "name": "python3",
      "display_name": "Python 3"
    },
    "language_info": {
      "name": "python"
    }
  },
  "cells": [
    {
      "cell_type": "markdown",
      "metadata": {
        "id": "view-in-github",
        "colab_type": "text"
      },
      "source": [
        "<a href=\"https://colab.research.google.com/github/Dattatreya21/MLnow_2.0/blob/main/univariate_linear_regression.ipynb\" target=\"_parent\"><img src=\"https://colab.research.google.com/assets/colab-badge.svg\" alt=\"Open In Colab\"/></a>"
      ]
    },
    {
      "cell_type": "code",
      "metadata": {
        "colab": {
          "base_uri": "https://localhost:8080/"
        },
        "id": "ix-TKTBub32J",
        "outputId": "52269fb9-53c0-4af3-bd43-9c7f51240a93"
      },
      "source": [
        "from google.colab import drive\n",
        "drive.mount('/content/drive')"
      ],
      "execution_count": null,
      "outputs": [
        {
          "output_type": "stream",
          "text": [
            "Mounted at /content/drive\n"
          ],
          "name": "stdout"
        }
      ]
    },
    {
      "cell_type": "code",
      "metadata": {
        "colab": {
          "base_uri": "https://localhost:8080/"
        },
        "id": "tQucIJ9eRvF1",
        "outputId": "66679245-8357-4df1-e3a0-7240937b6597"
      },
      "source": [
        "cd'/content/drive/MyDrive/student'"
      ],
      "execution_count": null,
      "outputs": [
        {
          "output_type": "stream",
          "text": [
            "/content/drive/MyDrive/student\n"
          ],
          "name": "stdout"
        }
      ]
    },
    {
      "cell_type": "code",
      "metadata": {
        "colab": {
          "base_uri": "https://localhost:8080/"
        },
        "id": "oR69jwALs-uP",
        "outputId": "de32cf59-ed79-4c30-cef3-86cffcecb3fc"
      },
      "source": [
        "ls"
      ],
      "execution_count": null,
      "outputs": [
        {
          "output_type": "stream",
          "text": [
            "'Copy of student-mat.gsheet'   student-mat.gsheet   student-por.csv\n",
            " student-mat.csv               student-merge.R      student.txt\n"
          ],
          "name": "stdout"
        }
      ]
    },
    {
      "cell_type": "markdown",
      "metadata": {
        "id": "2NPbhu2qSePl"
      },
      "source": [
        ""
      ]
    },
    {
      "cell_type": "code",
      "metadata": {
        "id": "4-jXlHgzSegq"
      },
      "source": [
        "import os"
      ],
      "execution_count": null,
      "outputs": []
    },
    {
      "cell_type": "code",
      "metadata": {
        "id": "CcUVs12rSpL_"
      },
      "source": [
        "import pandas as pd #working with csv or excel files\n",
        "import numpy as np #working with numbers/ arrays/ tensors\n",
        "import tensorflow as tf #framework\n",
        "from tensorflow import keras #API / library \n",
        "import os #using os commands between the python language"
      ],
      "execution_count": null,
      "outputs": []
    },
    {
      "cell_type": "code",
      "metadata": {
        "id": "VV-Ps6dJtX6B"
      },
      "source": [
        "mathData = pd.read_csv('student-mat.csv', sep=';') #load the csv file as dataframe"
      ],
      "execution_count": null,
      "outputs": []
    },
    {
      "cell_type": "code",
      "metadata": {
        "colab": {
          "base_uri": "https://localhost:8080/",
          "height": 379
        },
        "id": "AOQfCrGRS71w",
        "outputId": "ffdf642d-982a-44a8-f097-1613bbfa5d6d"
      },
      "source": [
        "mathData.head(10) #print the first ten rows of the dataframe"
      ],
      "execution_count": null,
      "outputs": [
        {
          "output_type": "execute_result",
          "data": {
            "text/html": [
              "<div>\n",
              "<style scoped>\n",
              "    .dataframe tbody tr th:only-of-type {\n",
              "        vertical-align: middle;\n",
              "    }\n",
              "\n",
              "    .dataframe tbody tr th {\n",
              "        vertical-align: top;\n",
              "    }\n",
              "\n",
              "    .dataframe thead th {\n",
              "        text-align: right;\n",
              "    }\n",
              "</style>\n",
              "<table border=\"1\" class=\"dataframe\">\n",
              "  <thead>\n",
              "    <tr style=\"text-align: right;\">\n",
              "      <th></th>\n",
              "      <th>school</th>\n",
              "      <th>sex</th>\n",
              "      <th>age</th>\n",
              "      <th>address</th>\n",
              "      <th>famsize</th>\n",
              "      <th>Pstatus</th>\n",
              "      <th>Medu</th>\n",
              "      <th>Fedu</th>\n",
              "      <th>Mjob</th>\n",
              "      <th>Fjob</th>\n",
              "      <th>reason</th>\n",
              "      <th>guardian</th>\n",
              "      <th>traveltime</th>\n",
              "      <th>studytime</th>\n",
              "      <th>failures</th>\n",
              "      <th>schoolsup</th>\n",
              "      <th>famsup</th>\n",
              "      <th>paid</th>\n",
              "      <th>activities</th>\n",
              "      <th>nursery</th>\n",
              "      <th>higher</th>\n",
              "      <th>internet</th>\n",
              "      <th>romantic</th>\n",
              "      <th>famrel</th>\n",
              "      <th>freetime</th>\n",
              "      <th>goout</th>\n",
              "      <th>Dalc</th>\n",
              "      <th>Walc</th>\n",
              "      <th>health</th>\n",
              "      <th>absences</th>\n",
              "      <th>G1</th>\n",
              "      <th>G2</th>\n",
              "      <th>G3</th>\n",
              "    </tr>\n",
              "  </thead>\n",
              "  <tbody>\n",
              "    <tr>\n",
              "      <th>0</th>\n",
              "      <td>GP</td>\n",
              "      <td>F</td>\n",
              "      <td>18</td>\n",
              "      <td>U</td>\n",
              "      <td>GT3</td>\n",
              "      <td>A</td>\n",
              "      <td>4</td>\n",
              "      <td>4</td>\n",
              "      <td>at_home</td>\n",
              "      <td>teacher</td>\n",
              "      <td>course</td>\n",
              "      <td>mother</td>\n",
              "      <td>2</td>\n",
              "      <td>2</td>\n",
              "      <td>0</td>\n",
              "      <td>yes</td>\n",
              "      <td>no</td>\n",
              "      <td>no</td>\n",
              "      <td>no</td>\n",
              "      <td>yes</td>\n",
              "      <td>yes</td>\n",
              "      <td>no</td>\n",
              "      <td>no</td>\n",
              "      <td>4</td>\n",
              "      <td>3</td>\n",
              "      <td>4</td>\n",
              "      <td>1</td>\n",
              "      <td>1</td>\n",
              "      <td>3</td>\n",
              "      <td>6</td>\n",
              "      <td>5</td>\n",
              "      <td>6</td>\n",
              "      <td>6</td>\n",
              "    </tr>\n",
              "    <tr>\n",
              "      <th>1</th>\n",
              "      <td>GP</td>\n",
              "      <td>F</td>\n",
              "      <td>17</td>\n",
              "      <td>U</td>\n",
              "      <td>GT3</td>\n",
              "      <td>T</td>\n",
              "      <td>1</td>\n",
              "      <td>1</td>\n",
              "      <td>at_home</td>\n",
              "      <td>other</td>\n",
              "      <td>course</td>\n",
              "      <td>father</td>\n",
              "      <td>1</td>\n",
              "      <td>2</td>\n",
              "      <td>0</td>\n",
              "      <td>no</td>\n",
              "      <td>yes</td>\n",
              "      <td>no</td>\n",
              "      <td>no</td>\n",
              "      <td>no</td>\n",
              "      <td>yes</td>\n",
              "      <td>yes</td>\n",
              "      <td>no</td>\n",
              "      <td>5</td>\n",
              "      <td>3</td>\n",
              "      <td>3</td>\n",
              "      <td>1</td>\n",
              "      <td>1</td>\n",
              "      <td>3</td>\n",
              "      <td>4</td>\n",
              "      <td>5</td>\n",
              "      <td>5</td>\n",
              "      <td>6</td>\n",
              "    </tr>\n",
              "    <tr>\n",
              "      <th>2</th>\n",
              "      <td>GP</td>\n",
              "      <td>F</td>\n",
              "      <td>15</td>\n",
              "      <td>U</td>\n",
              "      <td>LE3</td>\n",
              "      <td>T</td>\n",
              "      <td>1</td>\n",
              "      <td>1</td>\n",
              "      <td>at_home</td>\n",
              "      <td>other</td>\n",
              "      <td>other</td>\n",
              "      <td>mother</td>\n",
              "      <td>1</td>\n",
              "      <td>2</td>\n",
              "      <td>3</td>\n",
              "      <td>yes</td>\n",
              "      <td>no</td>\n",
              "      <td>yes</td>\n",
              "      <td>no</td>\n",
              "      <td>yes</td>\n",
              "      <td>yes</td>\n",
              "      <td>yes</td>\n",
              "      <td>no</td>\n",
              "      <td>4</td>\n",
              "      <td>3</td>\n",
              "      <td>2</td>\n",
              "      <td>2</td>\n",
              "      <td>3</td>\n",
              "      <td>3</td>\n",
              "      <td>10</td>\n",
              "      <td>7</td>\n",
              "      <td>8</td>\n",
              "      <td>10</td>\n",
              "    </tr>\n",
              "    <tr>\n",
              "      <th>3</th>\n",
              "      <td>GP</td>\n",
              "      <td>F</td>\n",
              "      <td>15</td>\n",
              "      <td>U</td>\n",
              "      <td>GT3</td>\n",
              "      <td>T</td>\n",
              "      <td>4</td>\n",
              "      <td>2</td>\n",
              "      <td>health</td>\n",
              "      <td>services</td>\n",
              "      <td>home</td>\n",
              "      <td>mother</td>\n",
              "      <td>1</td>\n",
              "      <td>3</td>\n",
              "      <td>0</td>\n",
              "      <td>no</td>\n",
              "      <td>yes</td>\n",
              "      <td>yes</td>\n",
              "      <td>yes</td>\n",
              "      <td>yes</td>\n",
              "      <td>yes</td>\n",
              "      <td>yes</td>\n",
              "      <td>yes</td>\n",
              "      <td>3</td>\n",
              "      <td>2</td>\n",
              "      <td>2</td>\n",
              "      <td>1</td>\n",
              "      <td>1</td>\n",
              "      <td>5</td>\n",
              "      <td>2</td>\n",
              "      <td>15</td>\n",
              "      <td>14</td>\n",
              "      <td>15</td>\n",
              "    </tr>\n",
              "    <tr>\n",
              "      <th>4</th>\n",
              "      <td>GP</td>\n",
              "      <td>F</td>\n",
              "      <td>16</td>\n",
              "      <td>U</td>\n",
              "      <td>GT3</td>\n",
              "      <td>T</td>\n",
              "      <td>3</td>\n",
              "      <td>3</td>\n",
              "      <td>other</td>\n",
              "      <td>other</td>\n",
              "      <td>home</td>\n",
              "      <td>father</td>\n",
              "      <td>1</td>\n",
              "      <td>2</td>\n",
              "      <td>0</td>\n",
              "      <td>no</td>\n",
              "      <td>yes</td>\n",
              "      <td>yes</td>\n",
              "      <td>no</td>\n",
              "      <td>yes</td>\n",
              "      <td>yes</td>\n",
              "      <td>no</td>\n",
              "      <td>no</td>\n",
              "      <td>4</td>\n",
              "      <td>3</td>\n",
              "      <td>2</td>\n",
              "      <td>1</td>\n",
              "      <td>2</td>\n",
              "      <td>5</td>\n",
              "      <td>4</td>\n",
              "      <td>6</td>\n",
              "      <td>10</td>\n",
              "      <td>10</td>\n",
              "    </tr>\n",
              "    <tr>\n",
              "      <th>5</th>\n",
              "      <td>GP</td>\n",
              "      <td>M</td>\n",
              "      <td>16</td>\n",
              "      <td>U</td>\n",
              "      <td>LE3</td>\n",
              "      <td>T</td>\n",
              "      <td>4</td>\n",
              "      <td>3</td>\n",
              "      <td>services</td>\n",
              "      <td>other</td>\n",
              "      <td>reputation</td>\n",
              "      <td>mother</td>\n",
              "      <td>1</td>\n",
              "      <td>2</td>\n",
              "      <td>0</td>\n",
              "      <td>no</td>\n",
              "      <td>yes</td>\n",
              "      <td>yes</td>\n",
              "      <td>yes</td>\n",
              "      <td>yes</td>\n",
              "      <td>yes</td>\n",
              "      <td>yes</td>\n",
              "      <td>no</td>\n",
              "      <td>5</td>\n",
              "      <td>4</td>\n",
              "      <td>2</td>\n",
              "      <td>1</td>\n",
              "      <td>2</td>\n",
              "      <td>5</td>\n",
              "      <td>10</td>\n",
              "      <td>15</td>\n",
              "      <td>15</td>\n",
              "      <td>15</td>\n",
              "    </tr>\n",
              "    <tr>\n",
              "      <th>6</th>\n",
              "      <td>GP</td>\n",
              "      <td>M</td>\n",
              "      <td>16</td>\n",
              "      <td>U</td>\n",
              "      <td>LE3</td>\n",
              "      <td>T</td>\n",
              "      <td>2</td>\n",
              "      <td>2</td>\n",
              "      <td>other</td>\n",
              "      <td>other</td>\n",
              "      <td>home</td>\n",
              "      <td>mother</td>\n",
              "      <td>1</td>\n",
              "      <td>2</td>\n",
              "      <td>0</td>\n",
              "      <td>no</td>\n",
              "      <td>no</td>\n",
              "      <td>no</td>\n",
              "      <td>no</td>\n",
              "      <td>yes</td>\n",
              "      <td>yes</td>\n",
              "      <td>yes</td>\n",
              "      <td>no</td>\n",
              "      <td>4</td>\n",
              "      <td>4</td>\n",
              "      <td>4</td>\n",
              "      <td>1</td>\n",
              "      <td>1</td>\n",
              "      <td>3</td>\n",
              "      <td>0</td>\n",
              "      <td>12</td>\n",
              "      <td>12</td>\n",
              "      <td>11</td>\n",
              "    </tr>\n",
              "    <tr>\n",
              "      <th>7</th>\n",
              "      <td>GP</td>\n",
              "      <td>F</td>\n",
              "      <td>17</td>\n",
              "      <td>U</td>\n",
              "      <td>GT3</td>\n",
              "      <td>A</td>\n",
              "      <td>4</td>\n",
              "      <td>4</td>\n",
              "      <td>other</td>\n",
              "      <td>teacher</td>\n",
              "      <td>home</td>\n",
              "      <td>mother</td>\n",
              "      <td>2</td>\n",
              "      <td>2</td>\n",
              "      <td>0</td>\n",
              "      <td>yes</td>\n",
              "      <td>yes</td>\n",
              "      <td>no</td>\n",
              "      <td>no</td>\n",
              "      <td>yes</td>\n",
              "      <td>yes</td>\n",
              "      <td>no</td>\n",
              "      <td>no</td>\n",
              "      <td>4</td>\n",
              "      <td>1</td>\n",
              "      <td>4</td>\n",
              "      <td>1</td>\n",
              "      <td>1</td>\n",
              "      <td>1</td>\n",
              "      <td>6</td>\n",
              "      <td>6</td>\n",
              "      <td>5</td>\n",
              "      <td>6</td>\n",
              "    </tr>\n",
              "    <tr>\n",
              "      <th>8</th>\n",
              "      <td>GP</td>\n",
              "      <td>M</td>\n",
              "      <td>15</td>\n",
              "      <td>U</td>\n",
              "      <td>LE3</td>\n",
              "      <td>A</td>\n",
              "      <td>3</td>\n",
              "      <td>2</td>\n",
              "      <td>services</td>\n",
              "      <td>other</td>\n",
              "      <td>home</td>\n",
              "      <td>mother</td>\n",
              "      <td>1</td>\n",
              "      <td>2</td>\n",
              "      <td>0</td>\n",
              "      <td>no</td>\n",
              "      <td>yes</td>\n",
              "      <td>yes</td>\n",
              "      <td>no</td>\n",
              "      <td>yes</td>\n",
              "      <td>yes</td>\n",
              "      <td>yes</td>\n",
              "      <td>no</td>\n",
              "      <td>4</td>\n",
              "      <td>2</td>\n",
              "      <td>2</td>\n",
              "      <td>1</td>\n",
              "      <td>1</td>\n",
              "      <td>1</td>\n",
              "      <td>0</td>\n",
              "      <td>16</td>\n",
              "      <td>18</td>\n",
              "      <td>19</td>\n",
              "    </tr>\n",
              "    <tr>\n",
              "      <th>9</th>\n",
              "      <td>GP</td>\n",
              "      <td>M</td>\n",
              "      <td>15</td>\n",
              "      <td>U</td>\n",
              "      <td>GT3</td>\n",
              "      <td>T</td>\n",
              "      <td>3</td>\n",
              "      <td>4</td>\n",
              "      <td>other</td>\n",
              "      <td>other</td>\n",
              "      <td>home</td>\n",
              "      <td>mother</td>\n",
              "      <td>1</td>\n",
              "      <td>2</td>\n",
              "      <td>0</td>\n",
              "      <td>no</td>\n",
              "      <td>yes</td>\n",
              "      <td>yes</td>\n",
              "      <td>yes</td>\n",
              "      <td>yes</td>\n",
              "      <td>yes</td>\n",
              "      <td>yes</td>\n",
              "      <td>no</td>\n",
              "      <td>5</td>\n",
              "      <td>5</td>\n",
              "      <td>1</td>\n",
              "      <td>1</td>\n",
              "      <td>1</td>\n",
              "      <td>5</td>\n",
              "      <td>0</td>\n",
              "      <td>14</td>\n",
              "      <td>15</td>\n",
              "      <td>15</td>\n",
              "    </tr>\n",
              "  </tbody>\n",
              "</table>\n",
              "</div>"
            ],
            "text/plain": [
              "  school sex  age address famsize Pstatus  ...  Walc  health absences  G1  G2  G3\n",
              "0     GP   F   18       U     GT3       A  ...     1       3        6   5   6   6\n",
              "1     GP   F   17       U     GT3       T  ...     1       3        4   5   5   6\n",
              "2     GP   F   15       U     LE3       T  ...     3       3       10   7   8  10\n",
              "3     GP   F   15       U     GT3       T  ...     1       5        2  15  14  15\n",
              "4     GP   F   16       U     GT3       T  ...     2       5        4   6  10  10\n",
              "5     GP   M   16       U     LE3       T  ...     2       5       10  15  15  15\n",
              "6     GP   M   16       U     LE3       T  ...     1       3        0  12  12  11\n",
              "7     GP   F   17       U     GT3       A  ...     1       1        6   6   5   6\n",
              "8     GP   M   15       U     LE3       A  ...     1       1        0  16  18  19\n",
              "9     GP   M   15       U     GT3       T  ...     1       5        0  14  15  15\n",
              "\n",
              "[10 rows x 33 columns]"
            ]
          },
          "metadata": {
            "tags": []
          },
          "execution_count": 12
        }
      ]
    },
    {
      "cell_type": "code",
      "metadata": {
        "colab": {
          "base_uri": "https://localhost:8080/",
          "height": 204
        },
        "id": "Yw0PNCuTSEDC",
        "outputId": "fee0e21d-b58b-4b1b-944f-0377d731ee3f"
      },
      "source": [
        "uniMathData = mathData[['G1', 'G3']]\n",
        "uniMathData.head(5)"
      ],
      "execution_count": null,
      "outputs": [
        {
          "output_type": "execute_result",
          "data": {
            "text/html": [
              "<div>\n",
              "<style scoped>\n",
              "    .dataframe tbody tr th:only-of-type {\n",
              "        vertical-align: middle;\n",
              "    }\n",
              "\n",
              "    .dataframe tbody tr th {\n",
              "        vertical-align: top;\n",
              "    }\n",
              "\n",
              "    .dataframe thead th {\n",
              "        text-align: right;\n",
              "    }\n",
              "</style>\n",
              "<table border=\"1\" class=\"dataframe\">\n",
              "  <thead>\n",
              "    <tr style=\"text-align: right;\">\n",
              "      <th></th>\n",
              "      <th>G1</th>\n",
              "      <th>G3</th>\n",
              "    </tr>\n",
              "  </thead>\n",
              "  <tbody>\n",
              "    <tr>\n",
              "      <th>0</th>\n",
              "      <td>5</td>\n",
              "      <td>6</td>\n",
              "    </tr>\n",
              "    <tr>\n",
              "      <th>1</th>\n",
              "      <td>5</td>\n",
              "      <td>6</td>\n",
              "    </tr>\n",
              "    <tr>\n",
              "      <th>2</th>\n",
              "      <td>7</td>\n",
              "      <td>10</td>\n",
              "    </tr>\n",
              "    <tr>\n",
              "      <th>3</th>\n",
              "      <td>15</td>\n",
              "      <td>15</td>\n",
              "    </tr>\n",
              "    <tr>\n",
              "      <th>4</th>\n",
              "      <td>6</td>\n",
              "      <td>10</td>\n",
              "    </tr>\n",
              "  </tbody>\n",
              "</table>\n",
              "</div>"
            ],
            "text/plain": [
              "   G1  G3\n",
              "0   5   6\n",
              "1   5   6\n",
              "2   7  10\n",
              "3  15  15\n",
              "4   6  10"
            ]
          },
          "metadata": {
            "tags": []
          },
          "execution_count": 16
        }
      ]
    },
    {
      "cell_type": "code",
      "metadata": {
        "id": "eyzP9mL4Hmb5",
        "colab": {
          "base_uri": "https://localhost:8080/",
          "height": 163
        },
        "outputId": "9e3f4ba2-08d7-4d8a-a74b-13fa7a3ec0c6"
      },
      "source": [
        "MathDatauniMathData.to_csv('univariate_2.csv')"
      ],
      "execution_count": null,
      "outputs": [
        {
          "output_type": "error",
          "ename": "NameError",
          "evalue": "ignored",
          "traceback": [
            "\u001b[0;31m---------------------------------------------------------------------------\u001b[0m",
            "\u001b[0;31mNameError\u001b[0m                                 Traceback (most recent call last)",
            "\u001b[0;32m<ipython-input-19-04b2ca0d134b>\u001b[0m in \u001b[0;36m<module>\u001b[0;34m()\u001b[0m\n\u001b[0;32m----> 1\u001b[0;31m \u001b[0mMathDatauniMathData\u001b[0m\u001b[0;34m.\u001b[0m\u001b[0mto_csv\u001b[0m\u001b[0;34m(\u001b[0m\u001b[0;34m'univariate_2.csv'\u001b[0m\u001b[0;34m)\u001b[0m\u001b[0;34m\u001b[0m\u001b[0;34m\u001b[0m\u001b[0m\n\u001b[0m",
            "\u001b[0;31mNameError\u001b[0m: name 'MathDatauniMathData' is not defined"
          ]
        }
      ]
    },
    {
      "cell_type": "markdown",
      "metadata": {
        "id": "3NdXYSteUWH-"
      },
      "source": [
        ""
      ]
    },
    {
      "cell_type": "code",
      "metadata": {
        "colab": {
          "base_uri": "https://localhost:8080/"
        },
        "id": "I-3qK_nNxnTA",
        "outputId": "d2223abe-0718-462e-d8d1-bbfc957833f7"
      },
      "source": [
        "ls"
      ],
      "execution_count": null,
      "outputs": [
        {
          "output_type": "stream",
          "text": [
            "'Copy of student-mat.gsheet'   student-mat.gsheet   student-por.csv\n",
            " student-mat.csv               student-merge.R      student.txt\n"
          ],
          "name": "stdout"
        }
      ]
    },
    {
      "cell_type": "code",
      "metadata": {
        "colab": {
          "base_uri": "https://localhost:8080/",
          "height": 157
        },
        "id": "R0JVbxYuUi2g",
        "outputId": "098de2ac-f06d-4718-f82b-ef07a75901f5"
      },
      "source": [
        "import seaborn as sns\n",
        "sns.palplot(sns.color_palette('PuOr')) #Purple to Orange colors\n",
        "pal = sns.color_palette('PuOr', 6) #print 6 color shades from Purple to Orange\n",
        "pal.as_hex() #set hex code values for colors\n",
        "\n",
        "import matplotlib.pyplot as plt\n",
        "plt.style.use(['seaborn'])\n",
        "sns_colors = ['#c6690c', '#664697'] #orange Purple hex codes\n",
        "sns.set_palette(sns_colors) #set the palette as sns_colors \n",
        "sns.palplot(sns.color_palette(sns_colors)) #plot the color codes"
      ],
      "execution_count": null,
      "outputs": [
        {
          "output_type": "display_data",
          "data": {
            "image/png": "[encoded data removed]",
            "text/plain": [
              "<Figure size 432x72 with 1 Axes>"
            ]
          },
          "metadata": {
            "tags": [],
            "needs_background": "light"
          }
        },
        {
          "output_type": "display_data",
          "data": {
            "image/png": "[encoded data removed]",
            "text/plain": [
              "<Figure size 144x72 with 1 Axes>"
            ]
          },
          "metadata": {
            "tags": []
          }
        }
      ]
    },
    {
      "cell_type": "code",
      "metadata": {
        "colab": {
          "base_uri": "https://localhost:8080/"
        },
        "id": "A6MT5E8Fy7MZ",
        "outputId": "c6a3ad35-04a7-47a4-cfb1-2039f1477367"
      },
      "source": [
        "uniMathData.columns #columns in the dataframe"
      ],
      "execution_count": null,
      "outputs": [
        {
          "output_type": "execute_result",
          "data": {
            "text/plain": [
              "Index(['G1', 'G3'], dtype='object')"
            ]
          },
          "metadata": {
            "tags": []
          },
          "execution_count": 23
        }
      ]
    },
    {
      "cell_type": "code",
      "metadata": {
        "colab": {
          "base_uri": "https://localhost:8080/",
          "height": 391
        },
        "id": "rPJQEDlvVS7W",
        "outputId": "e6bbb838-00c4-42bb-b702-80fa34d7a7c9"
      },
      "source": [
        "#pairplot for all the values\n",
        "\n",
        "sns.pairplot(uniMathData,\n",
        "             x_vars = ['G1', 'G3'],\n",
        "             y_vars =  ['G1', 'G3'],\n",
        "       diag_kind='kde'\n",
        "             )"
      ],
      "execution_count": null,
      "outputs": [
        {
          "output_type": "execute_result",
          "data": {
            "text/plain": [
              "<seaborn.axisgrid.PairGrid at 0x7fc73ef18250>"
            ]
          },
          "metadata": {
            "tags": []
          },
          "execution_count": 24
        },
        {
          "output_type": "display_data",
          "data": {
            "image/png": "[encoded data removed]",
            "text/plain": [
              "<Figure size 360x360 with 6 Axes>"
            ]
          },
          "metadata": {
            "tags": []
          }
        }
      ]
    },
    {
      "cell_type": "code",
      "metadata": {
        "colab": {
          "base_uri": "https://localhost:8080/"
        },
        "id": "UwrSOCKS1NhN",
        "outputId": "f9920b91-164a-476b-ad12-c120351f2445"
      },
      "source": [
        "#80-20 train-test percent split\n",
        "\n",
        "trainDataset = uniMathData.sample(frac=0.8, random_state=0) \n",
        "testDataset = uniMathData.drop(trainDataset.index)\n",
        "\n",
        "print(trainDataset.head())\n",
        "print(testDataset.head())"
      ],
      "execution_count": null,
      "outputs": [
        {
          "output_type": "stream",
          "text": [
            "     G1  G3\n",
            "329  14  14\n",
            "318  11  10\n",
            "317   9   9\n",
            "65   16  15\n",
            "59   15  16\n",
            "    G1  G3\n",
            "9   14  15\n",
            "25   6   8\n",
            "28  11  11\n",
            "31  17  17\n",
            "32  17  16\n"
          ],
          "name": "stdout"
        }
      ]
    },
    {
      "cell_type": "code",
      "metadata": {
        "colab": {
          "base_uri": "https://localhost:8080/"
        },
        "id": "nbrHD6yYW87X",
        "outputId": "2a381cc2-18a5-428f-b9cf-2d4b9a6c1f60"
      },
      "source": [
        "print(trainDataset.shape)\n",
        "print(testDataset.shape)"
      ],
      "execution_count": null,
      "outputs": [
        {
          "output_type": "stream",
          "text": [
            "(316, 2)\n",
            "(79, 2)\n"
          ],
          "name": "stdout"
        }
      ]
    },
    {
      "cell_type": "code",
      "metadata": {
        "id": "OmDTbvMC32hg",
        "colab": {
          "base_uri": "https://localhost:8080/"
        },
        "outputId": "da0c0440-cb76-4b91-cbb2-37c07e1e8d9a"
      },
      "source": [
        "#copy the trainDataset dataframe for getting the features\n",
        "\n",
        "trainFeatures = trainDataset.copy()\n",
        "testFeatures = testDataset.copy()\n",
        "\n",
        "print(trainFeatures.head())\n",
        "print(testFeatures.head())"
      ],
      "execution_count": null,
      "outputs": [
        {
          "output_type": "stream",
          "text": [
            "     G1  G3\n",
            "329  14  14\n",
            "318  11  10\n",
            "317   9   9\n",
            "65   16  15\n",
            "59   15  16\n",
            "    G1  G3\n",
            "9   14  15\n",
            "25   6   8\n",
            "28  11  11\n",
            "31  17  17\n",
            "32  17  16\n"
          ],
          "name": "stdout"
        }
      ]
    },
    {
      "cell_type": "code",
      "metadata": {
        "id": "jSR0_uni4ayh",
        "colab": {
          "base_uri": "https://localhost:8080/"
        },
        "outputId": "2f9fb6b6-9bcd-4e06-9700-0371617a086f"
      },
      "source": [
        "#removing the G3 column and saving it into the labels variable\n",
        "\n",
        "trainLabels = trainFeatures.pop('G3')\n",
        "testLabels = testFeatures.pop('G3')\n",
        "\n",
        "print(trainLabels.head())\n",
        "print(testLabels.head())"
      ],
      "execution_count": null,
      "outputs": [
        {
          "output_type": "stream",
          "text": [
            "329    14\n",
            "318    10\n",
            "317     9\n",
            "65     15\n",
            "59     16\n",
            "Name: G3, dtype: int64\n",
            "9     15\n",
            "25     8\n",
            "28    11\n",
            "31    17\n",
            "32    16\n",
            "Name: G3, dtype: int64\n"
          ],
          "name": "stdout"
        }
      ]
    },
    {
      "cell_type": "code",
      "metadata": {
        "id": "HnGSqb-q4wk8",
        "colab": {
          "base_uri": "https://localhost:8080/"
        },
        "outputId": "d07c3a12-5d25-48af-cb18-f96c09120433"
      },
      "source": [
        "print(trainFeatures.head())\n",
        "print(testFeatures.head())"
      ],
      "execution_count": null,
      "outputs": [
        {
          "output_type": "stream",
          "text": [
            "     G1\n",
            "329  14\n",
            "318  11\n",
            "317   9\n",
            "65   16\n",
            "59   15\n",
            "    G1\n",
            "9   14\n",
            "25   6\n",
            "28  11\n",
            "31  17\n",
            "32  17\n"
          ],
          "name": "stdout"
        }
      ]
    },
    {
      "cell_type": "code",
      "metadata": {
        "id": "PhQ-4q6DXaqL"
      },
      "source": [
        "# univariate -> num(features) = 1\n",
        "# multvariate -> num(features) > 1 = 11\n",
        "\n",
        "\n",
        "model = tf.keras.Sequential([\n",
        "                             tf.keras.layers.Dense(1)\n",
        "\n",
        "])"
      ],
      "execution_count": null,
      "outputs": []
    },
    {
      "cell_type": "code",
      "metadata": {
        "id": "ziOwHhtQXhmB"
      },
      "source": [
        "model.compile(\n",
        "    loss = 'mean_absolute_error', #minimizing the MAE loss\n",
        "    optimizer = tf.keras.optimizers.Adam(0.001), #learning rate specified as 0.001\n",
        "    # optimizer = 'adam', #takes the default learning rate\n",
        "    metrics = ['mae', 'mse'] #meanSquare and meanAbsolute error metrics\n",
        ")"
      ],
      "execution_count": null,
      "outputs": []
    },
    {
      "cell_type": "code",
      "metadata": {
        "colab": {
          "base_uri": "https://localhost:8080/"
        },
        "id": "_DmCvBAnXs9D",
        "outputId": "6b332396-6148-47b5-99d8-c59c787e702c"
      },
      "source": [
        "numEpochs = 300\n",
        "history = model.fit(x = trainFeatures, y = trainLabels, validation_data = (testFeatures, testLabels), epochs = numEpochs)"
      ],
      "execution_count": null,
      "outputs": [
        {
          "output_type": "stream",
          "text": [
            "Epoch 1/300\n",
            "10/10 [==============================] - 1s 22ms/step - loss: 17.0564 - mae: 17.0564 - mse: 330.7890 - val_loss: 17.9824 - val_mae: 17.9824 - val_mse: 365.5758\n",
            "Epoch 2/300\n",
            "10/10 [==============================] - 0s 4ms/step - loss: 16.9383 - mae: 16.9383 - mse: 326.3646 - val_loss: 17.8583 - val_mae: 17.8583 - val_mse: 360.7154\n",
            "Epoch 3/300\n",
            "10/10 [==============================] - 0s 4ms/step - loss: 16.8215 - mae: 16.8215 - mse: 322.0897 - val_loss: 17.7337 - val_mae: 17.7337 - val_mse: 355.8689\n",
            "Epoch 4/300\n",
            "10/10 [==============================] - 0s 6ms/step - loss: 16.7041 - mae: 16.7041 - mse: 317.7835 - val_loss: 17.6091 - val_mae: 17.6091 - val_mse: 351.0565\n",
            "Epoch 5/300\n",
            "10/10 [==============================] - 0s 3ms/step - loss: 16.5859 - mae: 16.5859 - mse: 313.4799 - val_loss: 17.4849 - val_mae: 17.4849 - val_mse: 346.2938\n",
            "Epoch 6/300\n",
            "10/10 [==============================] - 0s 3ms/step - loss: 16.4687 - mae: 16.4687 - mse: 309.2337 - val_loss: 17.3603 - val_mae: 17.3603 - val_mse: 341.5490\n",
            "Epoch 7/300\n",
            "10/10 [==============================] - 0s 4ms/step - loss: 16.3513 - mae: 16.3513 - mse: 305.0480 - val_loss: 17.2356 - val_mae: 17.2356 - val_mse: 336.8324\n",
            "Epoch 8/300\n",
            "10/10 [==============================] - 0s 3ms/step - loss: 16.2339 - mae: 16.2339 - mse: 300.8805 - val_loss: 17.1108 - val_mae: 17.1108 - val_mse: 332.1450\n",
            "Epoch 9/300\n",
            "10/10 [==============================] - 0s 3ms/step - loss: 16.1156 - mae: 16.1156 - mse: 296.6745 - val_loss: 16.9867 - val_mae: 16.9867 - val_mse: 327.5189\n",
            "Epoch 10/300\n",
            "10/10 [==============================] - 0s 3ms/step - loss: 15.9988 - mae: 15.9988 - mse: 292.5748 - val_loss: 16.8618 - val_mae: 16.8618 - val_mse: 322.8984\n",
            "Epoch 11/300\n",
            "10/10 [==============================] - 0s 3ms/step - loss: 15.8809 - mae: 15.8809 - mse: 288.4790 - val_loss: 16.7374 - val_mae: 16.7374 - val_mse: 318.3258\n",
            "Epoch 12/300\n",
            "10/10 [==============================] - 0s 4ms/step - loss: 15.7636 - mae: 15.7636 - mse: 284.4306 - val_loss: 16.6128 - val_mae: 16.6128 - val_mse: 313.7814\n",
            "Epoch 13/300\n",
            "10/10 [==============================] - 0s 4ms/step - loss: 15.6454 - mae: 15.6454 - mse: 280.3270 - val_loss: 16.4887 - val_mae: 16.4887 - val_mse: 309.2881\n",
            "Epoch 14/300\n",
            "10/10 [==============================] - 0s 4ms/step - loss: 15.5284 - mae: 15.5284 - mse: 276.3496 - val_loss: 16.3640 - val_mae: 16.3640 - val_mse: 304.8063\n",
            "Epoch 15/300\n",
            "10/10 [==============================] - 0s 4ms/step - loss: 15.4111 - mae: 15.4111 - mse: 272.3840 - val_loss: 16.2393 - val_mae: 16.2393 - val_mse: 300.3545\n",
            "Epoch 16/300\n",
            "10/10 [==============================] - 0s 4ms/step - loss: 15.2929 - mae: 15.2929 - mse: 268.4289 - val_loss: 16.1151 - val_mae: 16.1151 - val_mse: 295.9580\n",
            "Epoch 17/300\n",
            "10/10 [==============================] - 0s 4ms/step - loss: 15.1756 - mae: 15.1756 - mse: 264.4951 - val_loss: 15.9907 - val_mae: 15.9907 - val_mse: 291.5857\n",
            "Epoch 18/300\n",
            "10/10 [==============================] - 0s 4ms/step - loss: 15.0586 - mae: 15.0586 - mse: 260.6574 - val_loss: 15.8659 - val_mae: 15.8659 - val_mse: 287.2337\n",
            "Epoch 19/300\n",
            "10/10 [==============================] - 0s 4ms/step - loss: 14.9401 - mae: 14.9401 - mse: 256.7325 - val_loss: 15.7420 - val_mae: 15.7420 - val_mse: 282.9463\n",
            "Epoch 20/300\n",
            "10/10 [==============================] - 0s 3ms/step - loss: 14.8228 - mae: 14.8228 - mse: 252.8926 - val_loss: 15.6177 - val_mae: 15.6177 - val_mse: 278.6779\n",
            "Epoch 21/300\n",
            "10/10 [==============================] - 0s 3ms/step - loss: 14.7055 - mae: 14.7055 - mse: 249.1151 - val_loss: 15.4930 - val_mae: 15.4930 - val_mse: 274.4317\n",
            "Epoch 22/300\n",
            "10/10 [==============================] - 0s 4ms/step - loss: 14.5880 - mae: 14.5880 - mse: 245.3541 - val_loss: 15.3683 - val_mae: 15.3683 - val_mse: 270.2149\n",
            "Epoch 23/300\n",
            "10/10 [==============================] - 0s 4ms/step - loss: 14.4708 - mae: 14.4708 - mse: 241.6496 - val_loss: 15.2432 - val_mae: 15.2432 - val_mse: 266.0194\n",
            "Epoch 24/300\n",
            "10/10 [==============================] - 0s 4ms/step - loss: 14.3527 - mae: 14.3527 - mse: 237.9006 - val_loss: 15.1187 - val_mae: 15.1187 - val_mse: 261.8783\n",
            "Epoch 25/300\n",
            "10/10 [==============================] - 0s 4ms/step - loss: 14.2356 - mae: 14.2356 - mse: 234.2912 - val_loss: 14.9937 - val_mae: 14.9937 - val_mse: 257.7552\n",
            "Epoch 26/300\n",
            "10/10 [==============================] - 0s 4ms/step - loss: 14.1178 - mae: 14.1178 - mse: 230.6331 - val_loss: 14.8692 - val_mae: 14.8692 - val_mse: 253.6804\n",
            "Epoch 27/300\n",
            "10/10 [==============================] - 0s 4ms/step - loss: 14.0003 - mae: 14.0003 - mse: 226.9850 - val_loss: 14.7447 - val_mae: 14.7447 - val_mse: 249.6381\n",
            "Epoch 28/300\n",
            "10/10 [==============================] - 0s 4ms/step - loss: 13.8820 - mae: 13.8820 - mse: 223.3508 - val_loss: 14.6210 - val_mae: 14.6210 - val_mse: 245.6570\n",
            "Epoch 29/300\n",
            "10/10 [==============================] - 0s 4ms/step - loss: 13.7651 - mae: 13.7651 - mse: 219.8083 - val_loss: 14.4965 - val_mae: 14.4965 - val_mse: 241.6823\n",
            "Epoch 30/300\n",
            "10/10 [==============================] - 0s 4ms/step - loss: 13.6477 - mae: 13.6477 - mse: 216.3000 - val_loss: 14.3718 - val_mae: 14.3718 - val_mse: 237.7341\n",
            "Epoch 31/300\n",
            "10/10 [==============================] - 0s 3ms/step - loss: 13.5299 - mae: 13.5299 - mse: 212.7736 - val_loss: 14.2473 - val_mae: 14.2473 - val_mse: 233.8254\n",
            "Epoch 32/300\n",
            "10/10 [==============================] - 0s 4ms/step - loss: 13.4125 - mae: 13.4125 - mse: 209.3325 - val_loss: 14.1226 - val_mae: 14.1226 - val_mse: 229.9459\n",
            "Epoch 33/300\n",
            "10/10 [==============================] - 0s 3ms/step - loss: 13.2949 - mae: 13.2949 - mse: 205.8936 - val_loss: 13.9980 - val_mae: 13.9980 - val_mse: 226.1012\n",
            "Epoch 34/300\n",
            "10/10 [==============================] - 0s 4ms/step - loss: 13.1775 - mae: 13.1775 - mse: 202.4986 - val_loss: 13.8733 - val_mae: 13.8733 - val_mse: 222.2866\n",
            "Epoch 35/300\n",
            "10/10 [==============================] - 0s 3ms/step - loss: 13.0597 - mae: 13.0597 - mse: 199.0980 - val_loss: 13.7490 - val_mae: 13.7490 - val_mse: 218.5182\n",
            "Epoch 36/300\n",
            "10/10 [==============================] - 0s 3ms/step - loss: 12.9424 - mae: 12.9424 - mse: 195.7518 - val_loss: 13.6244 - val_mae: 13.6244 - val_mse: 214.7736\n",
            "Epoch 37/300\n",
            "10/10 [==============================] - 0s 3ms/step - loss: 12.8247 - mae: 12.8247 - mse: 192.3998 - val_loss: 13.5000 - val_mae: 13.5000 - val_mse: 211.0670\n",
            "Epoch 38/300\n",
            "10/10 [==============================] - 0s 4ms/step - loss: 12.7075 - mae: 12.7075 - mse: 189.1332 - val_loss: 13.3752 - val_mae: 13.3752 - val_mse: 207.3829\n",
            "Epoch 39/300\n",
            "10/10 [==============================] - 0s 4ms/step - loss: 12.5894 - mae: 12.5894 - mse: 185.8511 - val_loss: 13.2508 - val_mae: 13.2508 - val_mse: 203.7468\n",
            "Epoch 40/300\n",
            "10/10 [==============================] - 0s 4ms/step - loss: 12.4725 - mae: 12.4725 - mse: 182.6653 - val_loss: 13.1259 - val_mae: 13.1259 - val_mse: 200.1256\n",
            "Epoch 41/300\n",
            "10/10 [==============================] - 0s 3ms/step - loss: 12.3540 - mae: 12.3540 - mse: 179.3755 - val_loss: 13.0019 - val_mae: 13.0019 - val_mse: 196.5672\n",
            "Epoch 42/300\n",
            "10/10 [==============================] - 0s 4ms/step - loss: 12.2364 - mae: 12.2364 - mse: 176.1891 - val_loss: 12.8780 - val_mae: 12.8780 - val_mse: 193.0422\n",
            "Epoch 43/300\n",
            "10/10 [==============================] - 0s 4ms/step - loss: 12.1200 - mae: 12.1200 - mse: 173.1190 - val_loss: 12.7528 - val_mae: 12.7528 - val_mse: 189.5134\n",
            "Epoch 44/300\n",
            "10/10 [==============================] - 0s 4ms/step - loss: 12.0022 - mae: 12.0022 - mse: 170.0134 - val_loss: 12.6278 - val_mae: 12.6278 - val_mse: 186.0254\n",
            "Epoch 45/300\n",
            "10/10 [==============================] - 0s 4ms/step - loss: 11.8843 - mae: 11.8843 - mse: 166.9118 - val_loss: 12.5033 - val_mae: 12.5033 - val_mse: 182.5833\n",
            "Epoch 46/300\n",
            "10/10 [==============================] - 0s 4ms/step - loss: 11.7663 - mae: 11.7663 - mse: 163.8246 - val_loss: 12.3792 - val_mae: 12.3792 - val_mse: 179.1876\n",
            "Epoch 47/300\n",
            "10/10 [==============================] - 0s 4ms/step - loss: 11.6494 - mae: 11.6494 - mse: 160.8356 - val_loss: 12.2544 - val_mae: 12.2544 - val_mse: 175.8046\n",
            "Epoch 48/300\n",
            "10/10 [==============================] - 0s 3ms/step - loss: 11.5317 - mae: 11.5317 - mse: 157.8433 - val_loss: 12.1298 - val_mae: 12.1298 - val_mse: 172.4604\n",
            "Epoch 49/300\n",
            "10/10 [==============================] - 0s 4ms/step - loss: 11.4143 - mae: 11.4143 - mse: 154.8694 - val_loss: 12.0052 - val_mae: 12.0052 - val_mse: 169.1498\n",
            "Epoch 50/300\n",
            "10/10 [==============================] - 0s 4ms/step - loss: 11.2961 - mae: 11.2961 - mse: 151.9252 - val_loss: 11.8812 - val_mae: 11.8812 - val_mse: 165.8899\n",
            "Epoch 51/300\n",
            "10/10 [==============================] - 0s 4ms/step - loss: 11.1801 - mae: 11.1801 - mse: 149.0828 - val_loss: 11.7557 - val_mae: 11.7557 - val_mse: 162.6228\n",
            "Epoch 52/300\n",
            "10/10 [==============================] - 0s 4ms/step - loss: 11.0615 - mae: 11.0615 - mse: 146.1622 - val_loss: 11.6319 - val_mae: 11.6319 - val_mse: 159.4313\n",
            "Epoch 53/300\n",
            "10/10 [==============================] - 0s 3ms/step - loss: 10.9443 - mae: 10.9443 - mse: 143.2951 - val_loss: 11.5082 - val_mae: 11.5082 - val_mse: 156.2779\n",
            "Epoch 54/300\n",
            "10/10 [==============================] - 0s 4ms/step - loss: 10.8291 - mae: 10.8291 - mse: 140.5338 - val_loss: 11.3837 - val_mae: 11.3837 - val_mse: 153.1353\n",
            "Epoch 55/300\n",
            "10/10 [==============================] - 0s 4ms/step - loss: 10.7138 - mae: 10.7138 - mse: 137.7441 - val_loss: 11.2624 - val_mae: 11.2624 - val_mse: 150.0735\n",
            "Epoch 56/300\n",
            "10/10 [==============================] - 0s 4ms/step - loss: 10.6041 - mae: 10.6041 - mse: 135.0577 - val_loss: 11.1487 - val_mae: 11.1487 - val_mse: 147.1062\n",
            "Epoch 57/300\n",
            "10/10 [==============================] - 0s 4ms/step - loss: 10.4998 - mae: 10.4998 - mse: 132.4826 - val_loss: 11.0434 - val_mae: 11.0434 - val_mse: 144.2296\n",
            "Epoch 58/300\n",
            "10/10 [==============================] - 0s 7ms/step - loss: 10.3983 - mae: 10.3983 - mse: 129.8817 - val_loss: 10.9429 - val_mae: 10.9429 - val_mse: 141.4804\n",
            "Epoch 59/300\n",
            "10/10 [==============================] - 0s 4ms/step - loss: 10.3062 - mae: 10.3062 - mse: 127.5133 - val_loss: 10.8443 - val_mae: 10.8443 - val_mse: 138.8083\n",
            "Epoch 60/300\n",
            "10/10 [==============================] - 0s 4ms/step - loss: 10.2163 - mae: 10.2163 - mse: 125.1643 - val_loss: 10.7483 - val_mae: 10.7483 - val_mse: 136.2338\n",
            "Epoch 61/300\n",
            "10/10 [==============================] - 0s 4ms/step - loss: 10.1289 - mae: 10.1289 - mse: 122.8945 - val_loss: 10.6522 - val_mae: 10.6522 - val_mse: 133.6800\n",
            "Epoch 62/300\n",
            "10/10 [==============================] - 0s 4ms/step - loss: 10.0415 - mae: 10.0415 - mse: 120.6126 - val_loss: 10.5557 - val_mae: 10.5557 - val_mse: 131.1422\n",
            "Epoch 63/300\n",
            "10/10 [==============================] - 0s 4ms/step - loss: 9.9542 - mae: 9.9542 - mse: 118.4174 - val_loss: 10.4588 - val_mae: 10.4588 - val_mse: 128.6181\n",
            "Epoch 64/300\n",
            "10/10 [==============================] - 0s 4ms/step - loss: 9.8641 - mae: 9.8641 - mse: 116.1197 - val_loss: 10.3640 - val_mae: 10.3640 - val_mse: 126.1746\n",
            "Epoch 65/300\n",
            "10/10 [==============================] - 0s 4ms/step - loss: 9.7780 - mae: 9.7780 - mse: 113.9529 - val_loss: 10.2666 - val_mae: 10.2666 - val_mse: 123.6906\n",
            "Epoch 66/300\n",
            "10/10 [==============================] - 0s 3ms/step - loss: 9.6891 - mae: 9.6891 - mse: 111.7731 - val_loss: 10.1696 - val_mae: 10.1696 - val_mse: 121.2421\n",
            "Epoch 67/300\n",
            "10/10 [==============================] - 0s 4ms/step - loss: 9.6014 - mae: 9.6014 - mse: 109.6082 - val_loss: 10.0717 - val_mae: 10.0717 - val_mse: 118.7979\n",
            "Epoch 68/300\n",
            "10/10 [==============================] - 0s 4ms/step - loss: 9.5109 - mae: 9.5109 - mse: 107.4206 - val_loss: 9.9756 - val_mae: 9.9756 - val_mse: 116.4247\n",
            "Epoch 69/300\n",
            "10/10 [==============================] - 0s 4ms/step - loss: 9.4251 - mae: 9.4251 - mse: 105.3686 - val_loss: 9.8761 - val_mae: 9.8761 - val_mse: 113.9937\n",
            "Epoch 70/300\n",
            "10/10 [==============================] - 0s 4ms/step - loss: 9.3331 - mae: 9.3331 - mse: 103.1659 - val_loss: 9.7800 - val_mae: 9.7800 - val_mse: 111.6704\n",
            "Epoch 71/300\n",
            "10/10 [==============================] - 0s 4ms/step - loss: 9.2438 - mae: 9.2438 - mse: 101.0897 - val_loss: 9.6834 - val_mae: 9.6834 - val_mse: 109.3607\n",
            "Epoch 72/300\n",
            "10/10 [==============================] - 0s 4ms/step - loss: 9.1556 - mae: 9.1556 - mse: 99.0518 - val_loss: 9.5851 - val_mae: 9.5851 - val_mse: 107.0387\n",
            "Epoch 73/300\n",
            "10/10 [==============================] - 0s 4ms/step - loss: 9.0655 - mae: 9.0655 - mse: 96.9998 - val_loss: 9.4870 - val_mae: 9.4870 - val_mse: 104.7475\n",
            "Epoch 74/300\n",
            "10/10 [==============================] - 0s 6ms/step - loss: 8.9754 - mae: 8.9754 - mse: 94.9483 - val_loss: 9.3890 - val_mae: 9.3890 - val_mse: 102.4845\n",
            "Epoch 75/300\n",
            "10/10 [==============================] - 0s 3ms/step - loss: 8.8854 - mae: 8.8854 - mse: 92.9511 - val_loss: 9.2908 - val_mae: 9.2908 - val_mse: 100.2429\n",
            "Epoch 76/300\n",
            "10/10 [==============================] - 0s 4ms/step - loss: 8.7967 - mae: 8.7967 - mse: 90.9681 - val_loss: 9.1908 - val_mae: 9.1908 - val_mse: 97.9865\n",
            "Epoch 77/300\n",
            "10/10 [==============================] - 0s 4ms/step - loss: 8.7050 - mae: 8.7050 - mse: 88.9889 - val_loss: 9.0920 - val_mae: 9.0920 - val_mse: 95.7870\n",
            "Epoch 78/300\n",
            "10/10 [==============================] - 0s 4ms/step - loss: 8.6150 - mae: 8.6150 - mse: 87.0394 - val_loss: 8.9926 - val_mae: 8.9926 - val_mse: 93.5992\n",
            "Epoch 79/300\n",
            "10/10 [==============================] - 0s 4ms/step - loss: 8.5240 - mae: 8.5240 - mse: 85.0751 - val_loss: 8.8938 - val_mae: 8.8938 - val_mse: 91.4510\n",
            "Epoch 80/300\n",
            "10/10 [==============================] - 0s 3ms/step - loss: 8.4342 - mae: 8.4342 - mse: 83.2009 - val_loss: 8.7940 - val_mae: 8.7940 - val_mse: 89.3095\n",
            "Epoch 81/300\n",
            "10/10 [==============================] - 0s 4ms/step - loss: 8.3420 - mae: 8.3420 - mse: 81.2854 - val_loss: 8.6954 - val_mae: 8.6954 - val_mse: 87.2217\n",
            "Epoch 82/300\n",
            "10/10 [==============================] - 0s 3ms/step - loss: 8.2520 - mae: 8.2520 - mse: 79.4342 - val_loss: 8.5953 - val_mae: 8.5953 - val_mse: 85.1285\n",
            "Epoch 83/300\n",
            "10/10 [==============================] - 0s 3ms/step - loss: 8.1594 - mae: 8.1594 - mse: 77.5717 - val_loss: 8.4966 - val_mae: 8.4966 - val_mse: 83.0911\n",
            "Epoch 84/300\n",
            "10/10 [==============================] - 0s 4ms/step - loss: 8.0688 - mae: 8.0688 - mse: 75.7530 - val_loss: 8.3969 - val_mae: 8.3969 - val_mse: 81.0602\n",
            "Epoch 85/300\n",
            "10/10 [==============================] - 0s 4ms/step - loss: 7.9783 - mae: 7.9783 - mse: 73.9706 - val_loss: 8.2959 - val_mae: 8.2959 - val_mse: 79.0316\n",
            "Epoch 86/300\n",
            "10/10 [==============================] - 0s 5ms/step - loss: 7.8866 - mae: 7.8866 - mse: 72.1907 - val_loss: 8.1949 - val_mae: 8.1949 - val_mse: 77.0296\n",
            "Epoch 87/300\n",
            "10/10 [==============================] - 0s 4ms/step - loss: 7.7940 - mae: 7.7940 - mse: 70.3913 - val_loss: 8.0946 - val_mae: 8.0946 - val_mse: 75.0703\n",
            "Epoch 88/300\n",
            "10/10 [==============================] - 0s 4ms/step - loss: 7.7016 - mae: 7.7016 - mse: 68.6623 - val_loss: 7.9949 - val_mae: 7.9949 - val_mse: 73.1508\n",
            "Epoch 89/300\n",
            "10/10 [==============================] - 0s 4ms/step - loss: 7.6098 - mae: 7.6098 - mse: 66.9491 - val_loss: 7.8948 - val_mae: 7.8948 - val_mse: 71.2493\n",
            "Epoch 90/300\n",
            "10/10 [==============================] - 0s 4ms/step - loss: 7.5190 - mae: 7.5190 - mse: 65.2882 - val_loss: 7.7928 - val_mae: 7.7928 - val_mse: 69.3404\n",
            "Epoch 91/300\n",
            "10/10 [==============================] - 0s 4ms/step - loss: 7.4261 - mae: 7.4261 - mse: 63.6055 - val_loss: 7.6914 - val_mae: 7.6914 - val_mse: 67.4732\n",
            "Epoch 92/300\n",
            "10/10 [==============================] - 0s 4ms/step - loss: 7.3333 - mae: 7.3333 - mse: 61.9460 - val_loss: 7.5904 - val_mae: 7.5904 - val_mse: 65.6403\n",
            "Epoch 93/300\n",
            "10/10 [==============================] - 0s 4ms/step - loss: 7.2421 - mae: 7.2421 - mse: 60.3410 - val_loss: 7.4880 - val_mae: 7.4880 - val_mse: 63.8087\n",
            "Epoch 94/300\n",
            "10/10 [==============================] - 0s 4ms/step - loss: 7.1479 - mae: 7.1479 - mse: 58.7285 - val_loss: 7.3875 - val_mae: 7.3875 - val_mse: 62.0412\n",
            "Epoch 95/300\n",
            "10/10 [==============================] - 0s 5ms/step - loss: 7.0554 - mae: 7.0554 - mse: 57.1296 - val_loss: 7.2867 - val_mae: 7.2867 - val_mse: 60.2958\n",
            "Epoch 96/300\n",
            "10/10 [==============================] - 0s 4ms/step - loss: 6.9632 - mae: 6.9632 - mse: 55.6077 - val_loss: 7.1849 - val_mae: 7.1849 - val_mse: 58.5614\n",
            "Epoch 97/300\n",
            "10/10 [==============================] - 0s 4ms/step - loss: 6.8709 - mae: 6.8709 - mse: 54.0790 - val_loss: 7.0825 - val_mae: 7.0825 - val_mse: 56.8459\n",
            "Epoch 98/300\n",
            "10/10 [==============================] - 0s 4ms/step - loss: 6.7761 - mae: 6.7761 - mse: 52.5540 - val_loss: 6.9819 - val_mae: 6.9819 - val_mse: 55.1892\n",
            "Epoch 99/300\n",
            "10/10 [==============================] - 0s 4ms/step - loss: 6.6835 - mae: 6.6835 - mse: 51.0576 - val_loss: 6.8805 - val_mae: 6.8805 - val_mse: 53.5466\n",
            "Epoch 100/300\n",
            "10/10 [==============================] - 0s 4ms/step - loss: 6.5915 - mae: 6.5915 - mse: 49.6373 - val_loss: 6.7775 - val_mae: 6.7775 - val_mse: 51.9080\n",
            "Epoch 101/300\n",
            "10/10 [==============================] - 0s 4ms/step - loss: 6.4979 - mae: 6.4979 - mse: 48.1884 - val_loss: 6.6750 - val_mae: 6.6750 - val_mse: 50.3053\n",
            "Epoch 102/300\n",
            "10/10 [==============================] - 0s 4ms/step - loss: 6.4037 - mae: 6.4037 - mse: 46.7665 - val_loss: 6.5732 - val_mae: 6.5732 - val_mse: 48.7424\n",
            "Epoch 103/300\n",
            "10/10 [==============================] - 0s 5ms/step - loss: 6.3114 - mae: 6.3114 - mse: 45.4185 - val_loss: 6.4700 - val_mae: 6.4700 - val_mse: 47.1870\n",
            "Epoch 104/300\n",
            "10/10 [==============================] - 0s 4ms/step - loss: 6.2164 - mae: 6.2164 - mse: 44.0235 - val_loss: 6.3683 - val_mae: 6.3683 - val_mse: 45.6824\n",
            "Epoch 105/300\n",
            "10/10 [==============================] - 0s 4ms/step - loss: 6.1228 - mae: 6.1228 - mse: 42.6922 - val_loss: 6.2661 - val_mae: 6.2661 - val_mse: 44.1991\n",
            "Epoch 106/300\n",
            "10/10 [==============================] - 0s 3ms/step - loss: 6.0290 - mae: 6.0290 - mse: 41.3818 - val_loss: 6.1636 - val_mae: 6.1636 - val_mse: 42.7419\n",
            "Epoch 107/300\n",
            "10/10 [==============================] - 0s 4ms/step - loss: 5.9358 - mae: 5.9358 - mse: 40.0921 - val_loss: 6.0604 - val_mae: 6.0604 - val_mse: 41.3023\n",
            "Epoch 108/300\n",
            "10/10 [==============================] - 0s 5ms/step - loss: 5.8414 - mae: 5.8414 - mse: 38.8344 - val_loss: 5.9575 - val_mae: 5.9575 - val_mse: 39.8972\n",
            "Epoch 109/300\n",
            "10/10 [==============================] - 0s 4ms/step - loss: 5.7477 - mae: 5.7477 - mse: 37.5880 - val_loss: 5.8542 - val_mae: 5.8542 - val_mse: 38.5152\n",
            "Epoch 110/300\n",
            "10/10 [==============================] - 0s 4ms/step - loss: 5.6540 - mae: 5.6540 - mse: 36.3867 - val_loss: 5.7503 - val_mae: 5.7503 - val_mse: 37.1553\n",
            "Epoch 111/300\n",
            "10/10 [==============================] - 0s 3ms/step - loss: 5.5582 - mae: 5.5582 - mse: 35.1695 - val_loss: 5.6481 - val_mae: 5.6481 - val_mse: 35.8451\n",
            "Epoch 112/300\n",
            "10/10 [==============================] - 0s 4ms/step - loss: 5.4649 - mae: 5.4649 - mse: 34.0310 - val_loss: 5.5445 - val_mae: 5.5445 - val_mse: 34.5477\n",
            "Epoch 113/300\n",
            "10/10 [==============================] - 0s 4ms/step - loss: 5.3712 - mae: 5.3712 - mse: 32.9000 - val_loss: 5.4402 - val_mae: 5.4402 - val_mse: 33.2719\n",
            "Epoch 114/300\n",
            "10/10 [==============================] - 0s 5ms/step - loss: 5.2751 - mae: 5.2751 - mse: 31.7523 - val_loss: 5.3378 - val_mae: 5.3378 - val_mse: 32.0467\n",
            "Epoch 115/300\n",
            "10/10 [==============================] - 0s 3ms/step - loss: 5.1817 - mae: 5.1817 - mse: 30.6969 - val_loss: 5.2340 - val_mae: 5.2340 - val_mse: 30.8359\n",
            "Epoch 116/300\n",
            "10/10 [==============================] - 0s 4ms/step - loss: 5.0867 - mae: 5.0867 - mse: 29.6198 - val_loss: 5.1308 - val_mae: 5.1308 - val_mse: 29.6601\n",
            "Epoch 117/300\n",
            "10/10 [==============================] - 0s 4ms/step - loss: 4.9940 - mae: 4.9940 - mse: 28.6095 - val_loss: 5.0254 - val_mae: 5.0254 - val_mse: 28.4905\n",
            "Epoch 118/300\n",
            "10/10 [==============================] - 0s 4ms/step - loss: 4.8964 - mae: 4.8964 - mse: 27.5481 - val_loss: 4.9249 - val_mae: 4.9249 - val_mse: 27.3905\n",
            "Epoch 119/300\n",
            "10/10 [==============================] - 0s 4ms/step - loss: 4.8031 - mae: 4.8031 - mse: 26.5949 - val_loss: 4.8242 - val_mae: 4.8242 - val_mse: 26.3083\n",
            "Epoch 120/300\n",
            "10/10 [==============================] - 0s 4ms/step - loss: 4.7089 - mae: 4.7089 - mse: 25.6451 - val_loss: 4.7237 - val_mae: 4.7237 - val_mse: 25.2555\n",
            "Epoch 121/300\n",
            "10/10 [==============================] - 0s 4ms/step - loss: 4.6148 - mae: 4.6148 - mse: 24.6915 - val_loss: 4.6226 - val_mae: 4.6226 - val_mse: 24.2273\n",
            "Epoch 122/300\n",
            "10/10 [==============================] - 0s 4ms/step - loss: 4.5225 - mae: 4.5225 - mse: 23.8103 - val_loss: 4.5195 - val_mae: 4.5195 - val_mse: 23.2080\n",
            "Epoch 123/300\n",
            "10/10 [==============================] - 0s 4ms/step - loss: 4.4266 - mae: 4.4266 - mse: 22.9227 - val_loss: 4.4181 - val_mae: 4.4181 - val_mse: 22.2354\n",
            "Epoch 124/300\n",
            "10/10 [==============================] - 0s 4ms/step - loss: 4.3314 - mae: 4.3314 - mse: 22.0673 - val_loss: 4.3180 - val_mae: 4.3180 - val_mse: 21.3040\n",
            "Epoch 125/300\n",
            "10/10 [==============================] - 0s 4ms/step - loss: 4.2408 - mae: 4.2408 - mse: 21.2636 - val_loss: 4.2155 - val_mae: 4.2155 - val_mse: 20.3795\n",
            "Epoch 126/300\n",
            "10/10 [==============================] - 0s 4ms/step - loss: 4.1474 - mae: 4.1474 - mse: 20.4722 - val_loss: 4.1139 - val_mae: 4.1139 - val_mse: 19.4939\n",
            "Epoch 127/300\n",
            "10/10 [==============================] - 0s 5ms/step - loss: 4.0535 - mae: 4.0535 - mse: 19.6731 - val_loss: 4.0139 - val_mae: 4.0139 - val_mse: 18.6505\n",
            "Epoch 128/300\n",
            "10/10 [==============================] - 0s 4ms/step - loss: 3.9614 - mae: 3.9614 - mse: 18.9475 - val_loss: 3.9133 - val_mae: 3.9133 - val_mse: 17.8313\n",
            "Epoch 129/300\n",
            "10/10 [==============================] - 0s 5ms/step - loss: 3.8704 - mae: 3.8704 - mse: 18.2456 - val_loss: 3.8122 - val_mae: 3.8122 - val_mse: 17.0371\n",
            "Epoch 130/300\n",
            "10/10 [==============================] - 0s 4ms/step - loss: 3.7782 - mae: 3.7782 - mse: 17.5453 - val_loss: 3.7130 - val_mae: 3.7130 - val_mse: 16.2866\n",
            "Epoch 131/300\n",
            "10/10 [==============================] - 0s 4ms/step - loss: 3.6901 - mae: 3.6901 - mse: 16.9019 - val_loss: 3.6136 - val_mae: 3.6136 - val_mse: 15.5623\n",
            "Epoch 132/300\n",
            "10/10 [==============================] - 0s 4ms/step - loss: 3.6009 - mae: 3.6009 - mse: 16.2605 - val_loss: 3.5155 - val_mae: 3.5155 - val_mse: 14.8761\n",
            "Epoch 133/300\n",
            "10/10 [==============================] - 0s 5ms/step - loss: 3.5127 - mae: 3.5127 - mse: 15.6416 - val_loss: 3.4185 - val_mae: 3.4185 - val_mse: 14.2238\n",
            "Epoch 134/300\n",
            "10/10 [==============================] - 0s 5ms/step - loss: 3.4275 - mae: 3.4275 - mse: 15.0738 - val_loss: 3.3207 - val_mae: 3.3207 - val_mse: 13.5942\n",
            "Epoch 135/300\n",
            "10/10 [==============================] - 0s 5ms/step - loss: 3.3426 - mae: 3.3426 - mse: 14.5393 - val_loss: 3.2235 - val_mae: 3.2235 - val_mse: 12.9952\n",
            "Epoch 136/300\n",
            "10/10 [==============================] - 0s 5ms/step - loss: 3.2578 - mae: 3.2578 - mse: 14.0218 - val_loss: 3.1271 - val_mae: 3.1271 - val_mse: 12.4277\n",
            "Epoch 137/300\n",
            "10/10 [==============================] - 0s 4ms/step - loss: 3.1751 - mae: 3.1751 - mse: 13.5390 - val_loss: 3.0289 - val_mae: 3.0289 - val_mse: 11.8776\n",
            "Epoch 138/300\n",
            "10/10 [==============================] - 0s 4ms/step - loss: 3.0894 - mae: 3.0894 - mse: 13.0598 - val_loss: 2.9363 - val_mae: 2.9363 - val_mse: 11.3645\n",
            "Epoch 139/300\n",
            "10/10 [==============================] - 0s 4ms/step - loss: 3.0085 - mae: 3.0085 - mse: 12.6289 - val_loss: 2.8473 - val_mae: 2.8473 - val_mse: 10.8810\n",
            "Epoch 140/300\n",
            "10/10 [==============================] - 0s 5ms/step - loss: 2.9287 - mae: 2.9287 - mse: 12.2170 - val_loss: 2.7588 - val_mae: 2.7588 - val_mse: 10.4262\n",
            "Epoch 141/300\n",
            "10/10 [==============================] - 0s 5ms/step - loss: 2.8503 - mae: 2.8503 - mse: 11.8212 - val_loss: 2.6734 - val_mae: 2.6734 - val_mse: 10.0053\n",
            "Epoch 142/300\n",
            "10/10 [==============================] - 0s 4ms/step - loss: 2.7729 - mae: 2.7729 - mse: 11.4577 - val_loss: 2.5915 - val_mae: 2.5915 - val_mse: 9.6202\n",
            "Epoch 143/300\n",
            "10/10 [==============================] - 0s 4ms/step - loss: 2.6990 - mae: 2.6990 - mse: 11.1179 - val_loss: 2.5099 - val_mae: 2.5099 - val_mse: 9.2597\n",
            "Epoch 144/300\n",
            "10/10 [==============================] - 0s 4ms/step - loss: 2.6279 - mae: 2.6279 - mse: 10.8225 - val_loss: 2.4272 - val_mae: 2.4272 - val_mse: 8.9182\n",
            "Epoch 145/300\n",
            "10/10 [==============================] - 0s 5ms/step - loss: 2.5574 - mae: 2.5574 - mse: 10.5499 - val_loss: 2.3449 - val_mae: 2.3449 - val_mse: 8.6024\n",
            "Epoch 146/300\n",
            "10/10 [==============================] - 0s 4ms/step - loss: 2.4854 - mae: 2.4854 - mse: 10.2705 - val_loss: 2.2695 - val_mae: 2.2695 - val_mse: 8.3287\n",
            "Epoch 147/300\n",
            "10/10 [==============================] - 0s 4ms/step - loss: 2.4263 - mae: 2.4263 - mse: 10.0406 - val_loss: 2.1965 - val_mae: 2.1965 - val_mse: 8.0823\n",
            "Epoch 148/300\n",
            "10/10 [==============================] - 0s 4ms/step - loss: 2.3677 - mae: 2.3677 - mse: 9.8337 - val_loss: 2.1266 - val_mae: 2.1266 - val_mse: 7.8650\n",
            "Epoch 149/300\n",
            "10/10 [==============================] - 0s 4ms/step - loss: 2.3150 - mae: 2.3150 - mse: 9.6504 - val_loss: 2.0599 - val_mae: 2.0599 - val_mse: 7.6706\n",
            "Epoch 150/300\n",
            "10/10 [==============================] - 0s 4ms/step - loss: 2.2697 - mae: 2.2697 - mse: 9.4985 - val_loss: 2.0000 - val_mae: 2.0000 - val_mse: 7.5080\n",
            "Epoch 151/300\n",
            "10/10 [==============================] - 0s 4ms/step - loss: 2.2298 - mae: 2.2298 - mse: 9.3667 - val_loss: 1.9448 - val_mae: 1.9448 - val_mse: 7.3631\n",
            "Epoch 152/300\n",
            "10/10 [==============================] - 0s 4ms/step - loss: 2.1894 - mae: 2.1894 - mse: 9.2421 - val_loss: 1.8966 - val_mae: 1.8966 - val_mse: 7.2425\n",
            "Epoch 153/300\n",
            "10/10 [==============================] - 0s 3ms/step - loss: 2.1599 - mae: 2.1599 - mse: 9.1346 - val_loss: 1.8503 - val_mae: 1.8503 - val_mse: 7.1350\n",
            "Epoch 154/300\n",
            "10/10 [==============================] - 0s 3ms/step - loss: 2.1302 - mae: 2.1302 - mse: 9.0552 - val_loss: 1.8061 - val_mae: 1.8061 - val_mse: 7.0426\n",
            "Epoch 155/300\n",
            "10/10 [==============================] - 0s 6ms/step - loss: 2.1017 - mae: 2.1017 - mse: 8.9783 - val_loss: 1.7721 - val_mae: 1.7721 - val_mse: 6.9641\n",
            "Epoch 156/300\n",
            "10/10 [==============================] - 0s 4ms/step - loss: 2.0780 - mae: 2.0780 - mse: 8.9255 - val_loss: 1.7426 - val_mae: 1.7426 - val_mse: 6.8973\n",
            "Epoch 157/300\n",
            "10/10 [==============================] - 0s 4ms/step - loss: 2.0550 - mae: 2.0550 - mse: 8.8755 - val_loss: 1.7155 - val_mae: 1.7155 - val_mse: 6.8402\n",
            "Epoch 158/300\n",
            "10/10 [==============================] - 0s 4ms/step - loss: 2.0320 - mae: 2.0320 - mse: 8.8269 - val_loss: 1.6956 - val_mae: 1.6956 - val_mse: 6.7952\n",
            "Epoch 159/300\n",
            "10/10 [==============================] - 0s 4ms/step - loss: 2.0118 - mae: 2.0118 - mse: 8.7829 - val_loss: 1.6778 - val_mae: 1.6778 - val_mse: 6.7598\n",
            "Epoch 160/300\n",
            "10/10 [==============================] - 0s 4ms/step - loss: 1.9952 - mae: 1.9952 - mse: 8.7580 - val_loss: 1.6612 - val_mae: 1.6612 - val_mse: 6.7288\n",
            "Epoch 161/300\n",
            "10/10 [==============================] - 0s 5ms/step - loss: 1.9815 - mae: 1.9815 - mse: 8.7365 - val_loss: 1.6489 - val_mae: 1.6489 - val_mse: 6.7058\n",
            "Epoch 162/300\n",
            "10/10 [==============================] - 0s 5ms/step - loss: 1.9694 - mae: 1.9694 - mse: 8.7223 - val_loss: 1.6383 - val_mae: 1.6383 - val_mse: 6.6903\n",
            "Epoch 163/300\n",
            "10/10 [==============================] - 0s 4ms/step - loss: 1.9592 - mae: 1.9592 - mse: 8.7151 - val_loss: 1.6279 - val_mae: 1.6279 - val_mse: 6.6786\n",
            "Epoch 164/300\n",
            "10/10 [==============================] - 0s 4ms/step - loss: 1.9490 - mae: 1.9490 - mse: 8.7069 - val_loss: 1.6211 - val_mae: 1.6211 - val_mse: 6.6716\n",
            "Epoch 165/300\n",
            "10/10 [==============================] - 0s 4ms/step - loss: 1.9414 - mae: 1.9414 - mse: 8.6966 - val_loss: 1.6161 - val_mae: 1.6161 - val_mse: 6.6681\n",
            "Epoch 166/300\n",
            "10/10 [==============================] - 0s 4ms/step - loss: 1.9359 - mae: 1.9359 - mse: 8.6948 - val_loss: 1.6110 - val_mae: 1.6110 - val_mse: 6.6666\n",
            "Epoch 167/300\n",
            "10/10 [==============================] - 0s 4ms/step - loss: 1.9313 - mae: 1.9313 - mse: 8.7014 - val_loss: 1.6082 - val_mae: 1.6082 - val_mse: 6.6673\n",
            "Epoch 168/300\n",
            "10/10 [==============================] - 0s 4ms/step - loss: 1.9262 - mae: 1.9262 - mse: 8.7000 - val_loss: 1.6076 - val_mae: 1.6076 - val_mse: 6.6692\n",
            "Epoch 169/300\n",
            "10/10 [==============================] - 0s 4ms/step - loss: 1.9232 - mae: 1.9232 - mse: 8.7045 - val_loss: 1.6070 - val_mae: 1.6070 - val_mse: 6.6727\n",
            "Epoch 170/300\n",
            "10/10 [==============================] - 0s 4ms/step - loss: 1.9197 - mae: 1.9197 - mse: 8.7089 - val_loss: 1.6064 - val_mae: 1.6064 - val_mse: 6.6772\n",
            "Epoch 171/300\n",
            "10/10 [==============================] - 0s 4ms/step - loss: 1.9163 - mae: 1.9163 - mse: 8.7138 - val_loss: 1.6071 - val_mae: 1.6071 - val_mse: 6.6823\n",
            "Epoch 172/300\n",
            "10/10 [==============================] - 0s 4ms/step - loss: 1.9146 - mae: 1.9146 - mse: 8.7175 - val_loss: 1.6083 - val_mae: 1.6083 - val_mse: 6.6867\n",
            "Epoch 173/300\n",
            "10/10 [==============================] - 0s 4ms/step - loss: 1.9136 - mae: 1.9136 - mse: 8.7245 - val_loss: 1.6097 - val_mae: 1.6097 - val_mse: 6.6922\n",
            "Epoch 174/300\n",
            "10/10 [==============================] - 0s 4ms/step - loss: 1.9121 - mae: 1.9121 - mse: 8.7301 - val_loss: 1.6108 - val_mae: 1.6108 - val_mse: 6.6967\n",
            "Epoch 175/300\n",
            "10/10 [==============================] - 0s 4ms/step - loss: 1.9110 - mae: 1.9110 - mse: 8.7350 - val_loss: 1.6119 - val_mae: 1.6119 - val_mse: 6.7019\n",
            "Epoch 176/300\n",
            "10/10 [==============================] - 0s 4ms/step - loss: 1.9099 - mae: 1.9099 - mse: 8.7405 - val_loss: 1.6131 - val_mae: 1.6131 - val_mse: 6.7079\n",
            "Epoch 177/300\n",
            "10/10 [==============================] - 0s 4ms/step - loss: 1.9085 - mae: 1.9085 - mse: 8.7447 - val_loss: 1.6141 - val_mae: 1.6141 - val_mse: 6.7131\n",
            "Epoch 178/300\n",
            "10/10 [==============================] - 0s 4ms/step - loss: 1.9074 - mae: 1.9074 - mse: 8.7499 - val_loss: 1.6153 - val_mae: 1.6153 - val_mse: 6.7200\n",
            "Epoch 179/300\n",
            "10/10 [==============================] - 0s 4ms/step - loss: 1.9062 - mae: 1.9062 - mse: 8.7572 - val_loss: 1.6164 - val_mae: 1.6164 - val_mse: 6.7271\n",
            "Epoch 180/300\n",
            "10/10 [==============================] - 0s 4ms/step - loss: 1.9052 - mae: 1.9052 - mse: 8.7658 - val_loss: 1.6176 - val_mae: 1.6176 - val_mse: 6.7354\n",
            "Epoch 181/300\n",
            "10/10 [==============================] - 0s 4ms/step - loss: 1.9043 - mae: 1.9043 - mse: 8.7733 - val_loss: 1.6194 - val_mae: 1.6194 - val_mse: 6.7424\n",
            "Epoch 182/300\n",
            "10/10 [==============================] - 0s 4ms/step - loss: 1.9038 - mae: 1.9038 - mse: 8.7772 - val_loss: 1.6199 - val_mae: 1.6199 - val_mse: 6.7442\n",
            "Epoch 183/300\n",
            "10/10 [==============================] - 0s 4ms/step - loss: 1.9037 - mae: 1.9037 - mse: 8.7796 - val_loss: 1.6207 - val_mae: 1.6207 - val_mse: 6.7470\n",
            "Epoch 184/300\n",
            "10/10 [==============================] - 0s 4ms/step - loss: 1.9037 - mae: 1.9037 - mse: 8.7808 - val_loss: 1.6210 - val_mae: 1.6210 - val_mse: 6.7479\n",
            "Epoch 185/300\n",
            "10/10 [==============================] - 0s 6ms/step - loss: 1.9034 - mae: 1.9034 - mse: 8.7823 - val_loss: 1.6218 - val_mae: 1.6218 - val_mse: 6.7508\n",
            "Epoch 186/300\n",
            "10/10 [==============================] - 0s 4ms/step - loss: 1.9032 - mae: 1.9032 - mse: 8.7850 - val_loss: 1.6225 - val_mae: 1.6225 - val_mse: 6.7533\n",
            "Epoch 187/300\n",
            "10/10 [==============================] - 0s 7ms/step - loss: 1.9034 - mae: 1.9034 - mse: 8.7911 - val_loss: 1.6244 - val_mae: 1.6244 - val_mse: 6.7595\n",
            "Epoch 188/300\n",
            "10/10 [==============================] - 0s 5ms/step - loss: 1.9029 - mae: 1.9029 - mse: 8.7925 - val_loss: 1.6248 - val_mae: 1.6248 - val_mse: 6.7603\n",
            "Epoch 189/300\n",
            "10/10 [==============================] - 0s 4ms/step - loss: 1.9028 - mae: 1.9028 - mse: 8.7951 - val_loss: 1.6258 - val_mae: 1.6258 - val_mse: 6.7634\n",
            "Epoch 190/300\n",
            "10/10 [==============================] - 0s 4ms/step - loss: 1.9026 - mae: 1.9026 - mse: 8.7980 - val_loss: 1.6269 - val_mae: 1.6269 - val_mse: 6.7671\n",
            "Epoch 191/300\n",
            "10/10 [==============================] - 0s 4ms/step - loss: 1.9025 - mae: 1.9025 - mse: 8.8019 - val_loss: 1.6281 - val_mae: 1.6281 - val_mse: 6.7710\n",
            "Epoch 192/300\n",
            "10/10 [==============================] - 0s 4ms/step - loss: 1.9023 - mae: 1.9023 - mse: 8.8042 - val_loss: 1.6285 - val_mae: 1.6285 - val_mse: 6.7723\n",
            "Epoch 193/300\n",
            "10/10 [==============================] - 0s 4ms/step - loss: 1.9021 - mae: 1.9021 - mse: 8.8055 - val_loss: 1.6293 - val_mae: 1.6293 - val_mse: 6.7748\n",
            "Epoch 194/300\n",
            "10/10 [==============================] - 0s 4ms/step - loss: 1.9020 - mae: 1.9020 - mse: 8.8084 - val_loss: 1.6303 - val_mae: 1.6303 - val_mse: 6.7780\n",
            "Epoch 195/300\n",
            "10/10 [==============================] - 0s 5ms/step - loss: 1.9019 - mae: 1.9019 - mse: 8.8125 - val_loss: 1.6316 - val_mae: 1.6316 - val_mse: 6.7828\n",
            "Epoch 196/300\n",
            "10/10 [==============================] - 0s 4ms/step - loss: 1.9016 - mae: 1.9016 - mse: 8.8154 - val_loss: 1.6321 - val_mae: 1.6321 - val_mse: 6.7843\n",
            "Epoch 197/300\n",
            "10/10 [==============================] - 0s 4ms/step - loss: 1.9015 - mae: 1.9015 - mse: 8.8174 - val_loss: 1.6332 - val_mae: 1.6332 - val_mse: 6.7881\n",
            "Epoch 198/300\n",
            "10/10 [==============================] - 0s 4ms/step - loss: 1.9016 - mae: 1.9016 - mse: 8.8235 - val_loss: 1.6350 - val_mae: 1.6350 - val_mse: 6.7952\n",
            "Epoch 199/300\n",
            "10/10 [==============================] - 0s 4ms/step - loss: 1.9012 - mae: 1.9012 - mse: 8.8285 - val_loss: 1.6362 - val_mae: 1.6362 - val_mse: 6.7996\n",
            "Epoch 200/300\n",
            "10/10 [==============================] - 0s 4ms/step - loss: 1.9009 - mae: 1.9009 - mse: 8.8302 - val_loss: 1.6365 - val_mae: 1.6365 - val_mse: 6.8005\n",
            "Epoch 201/300\n",
            "10/10 [==============================] - 0s 4ms/step - loss: 1.9008 - mae: 1.9008 - mse: 8.8312 - val_loss: 1.6367 - val_mae: 1.6367 - val_mse: 6.8010\n",
            "Epoch 202/300\n",
            "10/10 [==============================] - 0s 4ms/step - loss: 1.9007 - mae: 1.9007 - mse: 8.8326 - val_loss: 1.6375 - val_mae: 1.6375 - val_mse: 6.8040\n",
            "Epoch 203/300\n",
            "10/10 [==============================] - 0s 4ms/step - loss: 1.9008 - mae: 1.9008 - mse: 8.8396 - val_loss: 1.6395 - val_mae: 1.6395 - val_mse: 6.8120\n",
            "Epoch 204/300\n",
            "10/10 [==============================] - 0s 5ms/step - loss: 1.9005 - mae: 1.9005 - mse: 8.8411 - val_loss: 1.6395 - val_mae: 1.6395 - val_mse: 6.8116\n",
            "Epoch 205/300\n",
            "10/10 [==============================] - 0s 4ms/step - loss: 1.9002 - mae: 1.9002 - mse: 8.8449 - val_loss: 1.6409 - val_mae: 1.6409 - val_mse: 6.8171\n",
            "Epoch 206/300\n",
            "10/10 [==============================] - 0s 5ms/step - loss: 1.9004 - mae: 1.9004 - mse: 8.8492 - val_loss: 1.6413 - val_mae: 1.6413 - val_mse: 6.8184\n",
            "Epoch 207/300\n",
            "10/10 [==============================] - 0s 4ms/step - loss: 1.9001 - mae: 1.9001 - mse: 8.8457 - val_loss: 1.6402 - val_mae: 1.6402 - val_mse: 6.8136\n",
            "Epoch 208/300\n",
            "10/10 [==============================] - 0s 4ms/step - loss: 1.9002 - mae: 1.9002 - mse: 8.8420 - val_loss: 1.6395 - val_mae: 1.6395 - val_mse: 6.8106\n",
            "Epoch 209/300\n",
            "10/10 [==============================] - 0s 4ms/step - loss: 1.9001 - mae: 1.9001 - mse: 8.8431 - val_loss: 1.6404 - val_mae: 1.6404 - val_mse: 6.8140\n",
            "Epoch 210/300\n",
            "10/10 [==============================] - 0s 4ms/step - loss: 1.9005 - mae: 1.9005 - mse: 8.8482 - val_loss: 1.6412 - val_mae: 1.6412 - val_mse: 6.8168\n",
            "Epoch 211/300\n",
            "10/10 [==============================] - 0s 4ms/step - loss: 1.9002 - mae: 1.9002 - mse: 8.8431 - val_loss: 1.6397 - val_mae: 1.6397 - val_mse: 6.8105\n",
            "Epoch 212/300\n",
            "10/10 [==============================] - 0s 4ms/step - loss: 1.9001 - mae: 1.9001 - mse: 8.8406 - val_loss: 1.6395 - val_mae: 1.6395 - val_mse: 6.8091\n",
            "Epoch 213/300\n",
            "10/10 [==============================] - 0s 4ms/step - loss: 1.8999 - mae: 1.8999 - mse: 8.8414 - val_loss: 1.6406 - val_mae: 1.6406 - val_mse: 6.8135\n",
            "Epoch 214/300\n",
            "10/10 [==============================] - 0s 4ms/step - loss: 1.8999 - mae: 1.8999 - mse: 8.8430 - val_loss: 1.6402 - val_mae: 1.6402 - val_mse: 6.8113\n",
            "Epoch 215/300\n",
            "10/10 [==============================] - 0s 4ms/step - loss: 1.9005 - mae: 1.9005 - mse: 8.8387 - val_loss: 1.6391 - val_mae: 1.6391 - val_mse: 6.8065\n",
            "Epoch 216/300\n",
            "10/10 [==============================] - 0s 4ms/step - loss: 1.9000 - mae: 1.9000 - mse: 8.8410 - val_loss: 1.6405 - val_mae: 1.6405 - val_mse: 6.8119\n",
            "Epoch 217/300\n",
            "10/10 [==============================] - 0s 5ms/step - loss: 1.8998 - mae: 1.8998 - mse: 8.8413 - val_loss: 1.6401 - val_mae: 1.6401 - val_mse: 6.8099\n",
            "Epoch 218/300\n",
            "10/10 [==============================] - 0s 4ms/step - loss: 1.8998 - mae: 1.8998 - mse: 8.8415 - val_loss: 1.6400 - val_mae: 1.6400 - val_mse: 6.8094\n",
            "Epoch 219/300\n",
            "10/10 [==============================] - 0s 4ms/step - loss: 1.8998 - mae: 1.8998 - mse: 8.8380 - val_loss: 1.6394 - val_mae: 1.6394 - val_mse: 6.8065\n",
            "Epoch 220/300\n",
            "10/10 [==============================] - 0s 4ms/step - loss: 1.9000 - mae: 1.9000 - mse: 8.8406 - val_loss: 1.6403 - val_mae: 1.6403 - val_mse: 6.8100\n",
            "Epoch 221/300\n",
            "10/10 [==============================] - 0s 4ms/step - loss: 1.8997 - mae: 1.8997 - mse: 8.8388 - val_loss: 1.6397 - val_mae: 1.6397 - val_mse: 6.8071\n",
            "Epoch 222/300\n",
            "10/10 [==============================] - 0s 4ms/step - loss: 1.8996 - mae: 1.8996 - mse: 8.8383 - val_loss: 1.6402 - val_mae: 1.6402 - val_mse: 6.8086\n",
            "Epoch 223/300\n",
            "10/10 [==============================] - 0s 4ms/step - loss: 1.8996 - mae: 1.8996 - mse: 8.8392 - val_loss: 1.6402 - val_mae: 1.6402 - val_mse: 6.8084\n",
            "Epoch 224/300\n",
            "10/10 [==============================] - 0s 5ms/step - loss: 1.8995 - mae: 1.8995 - mse: 8.8384 - val_loss: 1.6400 - val_mae: 1.6400 - val_mse: 6.8072\n",
            "Epoch 225/300\n",
            "10/10 [==============================] - 0s 4ms/step - loss: 1.8995 - mae: 1.8995 - mse: 8.8381 - val_loss: 1.6401 - val_mae: 1.6401 - val_mse: 6.8071\n",
            "Epoch 226/300\n",
            "10/10 [==============================] - 0s 4ms/step - loss: 1.8997 - mae: 1.8997 - mse: 8.8358 - val_loss: 1.6392 - val_mae: 1.6392 - val_mse: 6.8032\n",
            "Epoch 227/300\n",
            "10/10 [==============================] - 0s 6ms/step - loss: 1.8994 - mae: 1.8994 - mse: 8.8355 - val_loss: 1.6401 - val_mae: 1.6401 - val_mse: 6.8065\n",
            "Epoch 228/300\n",
            "10/10 [==============================] - 0s 4ms/step - loss: 1.8994 - mae: 1.8994 - mse: 8.8368 - val_loss: 1.6400 - val_mae: 1.6400 - val_mse: 6.8057\n",
            "Epoch 229/300\n",
            "10/10 [==============================] - 0s 5ms/step - loss: 1.8994 - mae: 1.8994 - mse: 8.8374 - val_loss: 1.6401 - val_mae: 1.6401 - val_mse: 6.8060\n",
            "Epoch 230/300\n",
            "10/10 [==============================] - 0s 4ms/step - loss: 1.8994 - mae: 1.8994 - mse: 8.8346 - val_loss: 1.6391 - val_mae: 1.6391 - val_mse: 6.8012\n",
            "Epoch 231/300\n",
            "10/10 [==============================] - 0s 4ms/step - loss: 1.8994 - mae: 1.8994 - mse: 8.8349 - val_loss: 1.6398 - val_mae: 1.6398 - val_mse: 6.8040\n",
            "Epoch 232/300\n",
            "10/10 [==============================] - 0s 5ms/step - loss: 1.8992 - mae: 1.8992 - mse: 8.8350 - val_loss: 1.6396 - val_mae: 1.6396 - val_mse: 6.8029\n",
            "Epoch 233/300\n",
            "10/10 [==============================] - 0s 4ms/step - loss: 1.8992 - mae: 1.8992 - mse: 8.8340 - val_loss: 1.6398 - val_mae: 1.6398 - val_mse: 6.8033\n",
            "Epoch 234/300\n",
            "10/10 [==============================] - 0s 4ms/step - loss: 1.8992 - mae: 1.8992 - mse: 8.8345 - val_loss: 1.6398 - val_mae: 1.6398 - val_mse: 6.8030\n",
            "Epoch 235/300\n",
            "10/10 [==============================] - 0s 4ms/step - loss: 1.8991 - mae: 1.8991 - mse: 8.8345 - val_loss: 1.6396 - val_mae: 1.6396 - val_mse: 6.8017\n",
            "Epoch 236/300\n",
            "10/10 [==============================] - 0s 5ms/step - loss: 1.8993 - mae: 1.8993 - mse: 8.8322 - val_loss: 1.6393 - val_mae: 1.6393 - val_mse: 6.8001\n",
            "Epoch 237/300\n",
            "10/10 [==============================] - 0s 5ms/step - loss: 1.8991 - mae: 1.8991 - mse: 8.8330 - val_loss: 1.6404 - val_mae: 1.6404 - val_mse: 6.8039\n",
            "Epoch 238/300\n",
            "10/10 [==============================] - 0s 4ms/step - loss: 1.8992 - mae: 1.8992 - mse: 8.8363 - val_loss: 1.6401 - val_mae: 1.6401 - val_mse: 6.8023\n",
            "Epoch 239/300\n",
            "10/10 [==============================] - 0s 6ms/step - loss: 1.8990 - mae: 1.8990 - mse: 8.8323 - val_loss: 1.6391 - val_mae: 1.6391 - val_mse: 6.7978\n",
            "Epoch 240/300\n",
            "10/10 [==============================] - 0s 4ms/step - loss: 1.8990 - mae: 1.8990 - mse: 8.8305 - val_loss: 1.6396 - val_mae: 1.6396 - val_mse: 6.7997\n",
            "Epoch 241/300\n",
            "10/10 [==============================] - 0s 4ms/step - loss: 1.8989 - mae: 1.8989 - mse: 8.8302 - val_loss: 1.6389 - val_mae: 1.6389 - val_mse: 6.7962\n",
            "Epoch 242/300\n",
            "10/10 [==============================] - 0s 5ms/step - loss: 1.8989 - mae: 1.8989 - mse: 8.8294 - val_loss: 1.6395 - val_mae: 1.6395 - val_mse: 6.7986\n",
            "Epoch 243/300\n",
            "10/10 [==============================] - 0s 5ms/step - loss: 1.8991 - mae: 1.8991 - mse: 8.8324 - val_loss: 1.6397 - val_mae: 1.6397 - val_mse: 6.7989\n",
            "Epoch 244/300\n",
            "10/10 [==============================] - 0s 5ms/step - loss: 1.8987 - mae: 1.8987 - mse: 8.8290 - val_loss: 1.6390 - val_mae: 1.6390 - val_mse: 6.7957\n",
            "Epoch 245/300\n",
            "10/10 [==============================] - 0s 4ms/step - loss: 1.8988 - mae: 1.8988 - mse: 8.8270 - val_loss: 1.6390 - val_mae: 1.6390 - val_mse: 6.7954\n",
            "Epoch 246/300\n",
            "10/10 [==============================] - 0s 5ms/step - loss: 1.8988 - mae: 1.8988 - mse: 8.8291 - val_loss: 1.6394 - val_mae: 1.6394 - val_mse: 6.7965\n",
            "Epoch 247/300\n",
            "10/10 [==============================] - 0s 5ms/step - loss: 1.8996 - mae: 1.8996 - mse: 8.8254 - val_loss: 1.6373 - val_mae: 1.6373 - val_mse: 6.7871\n",
            "Epoch 248/300\n",
            "10/10 [==============================] - 0s 4ms/step - loss: 1.8991 - mae: 1.8991 - mse: 8.8268 - val_loss: 1.6398 - val_mae: 1.6398 - val_mse: 6.7974\n",
            "Epoch 249/300\n",
            "10/10 [==============================] - 0s 4ms/step - loss: 1.8986 - mae: 1.8986 - mse: 8.8290 - val_loss: 1.6395 - val_mae: 1.6395 - val_mse: 6.7957\n",
            "Epoch 250/300\n",
            "10/10 [==============================] - 0s 5ms/step - loss: 1.8986 - mae: 1.8986 - mse: 8.8262 - val_loss: 1.6386 - val_mae: 1.6386 - val_mse: 6.7917\n",
            "Epoch 251/300\n",
            "10/10 [==============================] - 0s 4ms/step - loss: 1.8985 - mae: 1.8985 - mse: 8.8243 - val_loss: 1.6390 - val_mae: 1.6390 - val_mse: 6.7928\n",
            "Epoch 252/300\n",
            "10/10 [==============================] - 0s 4ms/step - loss: 1.8986 - mae: 1.8986 - mse: 8.8274 - val_loss: 1.6403 - val_mae: 1.6403 - val_mse: 6.7977\n",
            "Epoch 253/300\n",
            "10/10 [==============================] - 0s 4ms/step - loss: 1.8987 - mae: 1.8987 - mse: 8.8280 - val_loss: 1.6391 - val_mae: 1.6391 - val_mse: 6.7924\n",
            "Epoch 254/300\n",
            "10/10 [==============================] - 0s 5ms/step - loss: 1.8987 - mae: 1.8987 - mse: 8.8288 - val_loss: 1.6402 - val_mae: 1.6402 - val_mse: 6.7964\n",
            "Epoch 255/300\n",
            "10/10 [==============================] - 0s 5ms/step - loss: 1.8987 - mae: 1.8987 - mse: 8.8251 - val_loss: 1.6383 - val_mae: 1.6383 - val_mse: 6.7882\n",
            "Epoch 256/300\n",
            "10/10 [==============================] - 0s 4ms/step - loss: 1.8983 - mae: 1.8983 - mse: 8.8216 - val_loss: 1.6390 - val_mae: 1.6390 - val_mse: 6.7909\n",
            "Epoch 257/300\n",
            "10/10 [==============================] - 0s 4ms/step - loss: 1.8988 - mae: 1.8988 - mse: 8.8292 - val_loss: 1.6403 - val_mae: 1.6403 - val_mse: 6.7957\n",
            "Epoch 258/300\n",
            "10/10 [==============================] - 0s 4ms/step - loss: 1.8981 - mae: 1.8981 - mse: 8.8249 - val_loss: 1.6386 - val_mae: 1.6386 - val_mse: 6.7884\n",
            "Epoch 259/300\n",
            "10/10 [==============================] - 0s 4ms/step - loss: 1.8983 - mae: 1.8983 - mse: 8.8200 - val_loss: 1.6382 - val_mae: 1.6382 - val_mse: 6.7864\n",
            "Epoch 260/300\n",
            "10/10 [==============================] - 0s 4ms/step - loss: 1.8982 - mae: 1.8982 - mse: 8.8195 - val_loss: 1.6387 - val_mae: 1.6387 - val_mse: 6.7878\n",
            "Epoch 261/300\n",
            "10/10 [==============================] - 0s 5ms/step - loss: 1.8982 - mae: 1.8982 - mse: 8.8230 - val_loss: 1.6391 - val_mae: 1.6391 - val_mse: 6.7895\n",
            "Epoch 262/300\n",
            "10/10 [==============================] - 0s 5ms/step - loss: 1.8981 - mae: 1.8981 - mse: 8.8211 - val_loss: 1.6384 - val_mae: 1.6384 - val_mse: 6.7858\n",
            "Epoch 263/300\n",
            "10/10 [==============================] - 0s 4ms/step - loss: 1.8980 - mae: 1.8980 - mse: 8.8208 - val_loss: 1.6388 - val_mae: 1.6388 - val_mse: 6.7874\n",
            "Epoch 264/300\n",
            "10/10 [==============================] - 0s 5ms/step - loss: 1.8979 - mae: 1.8979 - mse: 8.8208 - val_loss: 1.6386 - val_mae: 1.6386 - val_mse: 6.7861\n",
            "Epoch 265/300\n",
            "10/10 [==============================] - 0s 4ms/step - loss: 1.8979 - mae: 1.8979 - mse: 8.8199 - val_loss: 1.6390 - val_mae: 1.6390 - val_mse: 6.7873\n",
            "Epoch 266/300\n",
            "10/10 [==============================] - 0s 5ms/step - loss: 1.8978 - mae: 1.8978 - mse: 8.8199 - val_loss: 1.6390 - val_mae: 1.6390 - val_mse: 6.7867\n",
            "Epoch 267/300\n",
            "10/10 [==============================] - 0s 6ms/step - loss: 1.8978 - mae: 1.8978 - mse: 8.8207 - val_loss: 1.6390 - val_mae: 1.6390 - val_mse: 6.7862\n",
            "Epoch 268/300\n",
            "10/10 [==============================] - 0s 4ms/step - loss: 1.8977 - mae: 1.8977 - mse: 8.8187 - val_loss: 1.6383 - val_mae: 1.6383 - val_mse: 6.7830\n",
            "Epoch 269/300\n",
            "10/10 [==============================] - 0s 4ms/step - loss: 1.8978 - mae: 1.8978 - mse: 8.8162 - val_loss: 1.6384 - val_mae: 1.6384 - val_mse: 6.7829\n",
            "Epoch 270/300\n",
            "10/10 [==============================] - 0s 4ms/step - loss: 1.8977 - mae: 1.8977 - mse: 8.8184 - val_loss: 1.6386 - val_mae: 1.6386 - val_mse: 6.7835\n",
            "Epoch 271/300\n",
            "10/10 [==============================] - 0s 3ms/step - loss: 1.8977 - mae: 1.8977 - mse: 8.8152 - val_loss: 1.6377 - val_mae: 1.6377 - val_mse: 6.7791\n",
            "Epoch 272/300\n",
            "10/10 [==============================] - 0s 4ms/step - loss: 1.8979 - mae: 1.8979 - mse: 8.8120 - val_loss: 1.6376 - val_mae: 1.6376 - val_mse: 6.7782\n",
            "Epoch 273/300\n",
            "10/10 [==============================] - 0s 4ms/step - loss: 1.8975 - mae: 1.8975 - mse: 8.8148 - val_loss: 1.6392 - val_mae: 1.6392 - val_mse: 6.7843\n",
            "Epoch 274/300\n",
            "10/10 [==============================] - 0s 4ms/step - loss: 1.8978 - mae: 1.8978 - mse: 8.8212 - val_loss: 1.6405 - val_mae: 1.6405 - val_mse: 6.7889\n",
            "Epoch 275/300\n",
            "10/10 [==============================] - 0s 4ms/step - loss: 1.8976 - mae: 1.8976 - mse: 8.8200 - val_loss: 1.6389 - val_mae: 1.6389 - val_mse: 6.7822\n",
            "Epoch 276/300\n",
            "10/10 [==============================] - 0s 4ms/step - loss: 1.8974 - mae: 1.8974 - mse: 8.8151 - val_loss: 1.6381 - val_mae: 1.6381 - val_mse: 6.7787\n",
            "Epoch 277/300\n",
            "10/10 [==============================] - 0s 4ms/step - loss: 1.8975 - mae: 1.8975 - mse: 8.8147 - val_loss: 1.6385 - val_mae: 1.6385 - val_mse: 6.7798\n",
            "Epoch 278/300\n",
            "10/10 [==============================] - 0s 5ms/step - loss: 1.8980 - mae: 1.8980 - mse: 8.8110 - val_loss: 1.6365 - val_mae: 1.6365 - val_mse: 6.7708\n",
            "Epoch 279/300\n",
            "10/10 [==============================] - 0s 4ms/step - loss: 1.8973 - mae: 1.8973 - mse: 8.8076 - val_loss: 1.6380 - val_mae: 1.6380 - val_mse: 6.7771\n",
            "Epoch 280/300\n",
            "10/10 [==============================] - 0s 4ms/step - loss: 1.8971 - mae: 1.8971 - mse: 8.8131 - val_loss: 1.6388 - val_mae: 1.6388 - val_mse: 6.7798\n",
            "Epoch 281/300\n",
            "10/10 [==============================] - 0s 5ms/step - loss: 1.8973 - mae: 1.8973 - mse: 8.8139 - val_loss: 1.6383 - val_mae: 1.6383 - val_mse: 6.7771\n",
            "Epoch 282/300\n",
            "10/10 [==============================] - 0s 5ms/step - loss: 1.8972 - mae: 1.8972 - mse: 8.8129 - val_loss: 1.6383 - val_mae: 1.6383 - val_mse: 6.7770\n",
            "Epoch 283/300\n",
            "10/10 [==============================] - 0s 4ms/step - loss: 1.8970 - mae: 1.8970 - mse: 8.8110 - val_loss: 1.6383 - val_mae: 1.6383 - val_mse: 6.7763\n",
            "Epoch 284/300\n",
            "10/10 [==============================] - 0s 4ms/step - loss: 1.8970 - mae: 1.8970 - mse: 8.8097 - val_loss: 1.6379 - val_mae: 1.6379 - val_mse: 6.7744\n",
            "Epoch 285/300\n",
            "10/10 [==============================] - 0s 5ms/step - loss: 1.8970 - mae: 1.8970 - mse: 8.8110 - val_loss: 1.6386 - val_mae: 1.6386 - val_mse: 6.7768\n",
            "Epoch 286/300\n",
            "10/10 [==============================] - 0s 4ms/step - loss: 1.8969 - mae: 1.8969 - mse: 8.8099 - val_loss: 1.6379 - val_mae: 1.6379 - val_mse: 6.7732\n",
            "Epoch 287/300\n",
            "10/10 [==============================] - 0s 4ms/step - loss: 1.8969 - mae: 1.8969 - mse: 8.8090 - val_loss: 1.6383 - val_mae: 1.6383 - val_mse: 6.7747\n",
            "Epoch 288/300\n",
            "10/10 [==============================] - 0s 5ms/step - loss: 1.8968 - mae: 1.8968 - mse: 8.8087 - val_loss: 1.6381 - val_mae: 1.6381 - val_mse: 6.7732\n",
            "Epoch 289/300\n",
            "10/10 [==============================] - 0s 4ms/step - loss: 1.8967 - mae: 1.8967 - mse: 8.8075 - val_loss: 1.6373 - val_mae: 1.6373 - val_mse: 6.7696\n",
            "Epoch 290/300\n",
            "10/10 [==============================] - 0s 5ms/step - loss: 1.8968 - mae: 1.8968 - mse: 8.8044 - val_loss: 1.6374 - val_mae: 1.6374 - val_mse: 6.7695\n",
            "Epoch 291/300\n",
            "10/10 [==============================] - 0s 4ms/step - loss: 1.8967 - mae: 1.8967 - mse: 8.8052 - val_loss: 1.6380 - val_mae: 1.6380 - val_mse: 6.7714\n",
            "Epoch 292/300\n",
            "10/10 [==============================] - 0s 4ms/step - loss: 1.8966 - mae: 1.8966 - mse: 8.8072 - val_loss: 1.6388 - val_mae: 1.6388 - val_mse: 6.7740\n",
            "Epoch 293/300\n",
            "10/10 [==============================] - 0s 4ms/step - loss: 1.8969 - mae: 1.8969 - mse: 8.8060 - val_loss: 1.6373 - val_mae: 1.6373 - val_mse: 6.7677\n",
            "Epoch 294/300\n",
            "10/10 [==============================] - 0s 4ms/step - loss: 1.8967 - mae: 1.8967 - mse: 8.8078 - val_loss: 1.6392 - val_mae: 1.6392 - val_mse: 6.7749\n",
            "Epoch 295/300\n",
            "10/10 [==============================] - 0s 4ms/step - loss: 1.8967 - mae: 1.8967 - mse: 8.8068 - val_loss: 1.6378 - val_mae: 1.6378 - val_mse: 6.7688\n",
            "Epoch 296/300\n",
            "10/10 [==============================] - 0s 4ms/step - loss: 1.8964 - mae: 1.8964 - mse: 8.8039 - val_loss: 1.6378 - val_mae: 1.6378 - val_mse: 6.7684\n",
            "Epoch 297/300\n",
            "10/10 [==============================] - 0s 5ms/step - loss: 1.8963 - mae: 1.8963 - mse: 8.8040 - val_loss: 1.6383 - val_mae: 1.6383 - val_mse: 6.7697\n",
            "Epoch 298/300\n",
            "10/10 [==============================] - 0s 4ms/step - loss: 1.8966 - mae: 1.8966 - mse: 8.8026 - val_loss: 1.6370 - val_mae: 1.6370 - val_mse: 6.7642\n",
            "Epoch 299/300\n",
            "10/10 [==============================] - 0s 4ms/step - loss: 1.8962 - mae: 1.8962 - mse: 8.8018 - val_loss: 1.6382 - val_mae: 1.6382 - val_mse: 6.7686\n",
            "Epoch 300/300\n",
            "10/10 [==============================] - 0s 5ms/step - loss: 1.8964 - mae: 1.8964 - mse: 8.8039 - val_loss: 1.6373 - val_mae: 1.6373 - val_mse: 6.7641\n"
          ],
          "name": "stdout"
        }
      ]
    },
    {
      "cell_type": "code",
      "metadata": {
        "colab": {
          "base_uri": "https://localhost:8080/"
        },
        "id": "jWzfPogUXz6w",
        "outputId": "89c15107-aaf4-4335-d149-2d2e4d1c9a03"
      },
      "source": [
        "print(history)"
      ],
      "execution_count": null,
      "outputs": [
        {
          "output_type": "stream",
          "text": [
            "<tensorflow.python.keras.callbacks.History object at 0x7fc73153d110>\n"
          ],
          "name": "stdout"
        }
      ]
    },
    {
      "cell_type": "code",
      "metadata": {
        "colab": {
          "base_uri": "https://localhost:8080/"
        },
        "id": "Pdi927_rX34-",
        "outputId": "fe464c97-8ceb-42c7-8d46-047e3836665d"
      },
      "source": [
        "model.summary()"
      ],
      "execution_count": null,
      "outputs": [
        {
          "output_type": "stream",
          "text": [
            "Model: \"sequential\"\n",
            "_________________________________________________________________\n",
            "Layer (type)                 Output Shape              Param #   \n",
            "=================================================================\n",
            "dense (Dense)                (None, 1)                 2         \n",
            "=================================================================\n",
            "Total params: 2\n",
            "Trainable params: 2\n",
            "Non-trainable params: 0\n",
            "_________________________________________________________________\n"
          ],
          "name": "stdout"
        }
      ]
    },
    {
      "cell_type": "code",
      "metadata": {
        "colab": {
          "base_uri": "https://localhost:8080/",
          "height": 1000
        },
        "id": "Y-otpupGX9Kt",
        "outputId": "8584ec28-093f-421f-dd3d-f30e4d50a574"
      },
      "source": [
        "# tempString = 'mse'\n",
        "def curvePlots(tempString):\n",
        "  plt.plot(history.history[tempString])\n",
        "  plt.plot(history.history[f'val_{tempString}'])\n",
        "  plt.xlabel('NumEpochs')\n",
        "  plt.ylabel(tempString)\n",
        "  plt.legend([tempString, f'val_{tempString}'])\n",
        "  plt.show()\n",
        "\n",
        "\n",
        "curvePlots('mse')\n",
        "curvePlots('mae')\n",
        "curvePlots('loss')"
      ],
      "execution_count": null,
      "outputs": [
        {
          "output_type": "display_data",
          "data": {
            "image/png": "[encoded data removed]",
            "text/plain": [
              "<Figure size 576x396 with 1 Axes>"
            ]
          },
          "metadata": {
            "tags": []
          }
        },
        {
          "output_type": "display_data",
          "data": {
            "image/png": "[encoded data removed]",
            "text/plain": [
              "<Figure size 576x396 with 1 Axes>"
            ]
          },
          "metadata": {
            "tags": []
          }
        },
        {
          "output_type": "display_data",
          "data": {
            "image/png": "[encoded data removed]",
            "text/plain": [
              "<Figure size 576x396 with 1 Axes>"
            ]
          },
          "metadata": {
            "tags": []
          }
        }
      ]
    },
    {
      "cell_type": "code",
      "metadata": {
        "colab": {
          "base_uri": "https://localhost:8080/"
        },
        "id": "-gY2Vo7UYGpQ",
        "outputId": "736e25b6-2eac-490f-a974-4e67cc554106"
      },
      "source": [
        "model.predict([1])"
      ],
      "execution_count": null,
      "outputs": [
        {
          "output_type": "execute_result",
          "data": {
            "text/plain": [
              "array([[2.2384841]], dtype=float32)"
            ]
          },
          "metadata": {
            "tags": []
          },
          "execution_count": 38
        }
      ]
    },
    {
      "cell_type": "code",
      "metadata": {
        "colab": {
          "base_uri": "https://localhost:8080/"
        },
        "id": "lsS-63LBYNUM",
        "outputId": "68f4e854-8bfa-470f-d3ce-e5a22f5bd7b5"
      },
      "source": [
        "# testPreds = model.predict(testFeatures).flatten() #array of all prediction values\n",
        "\n",
        "#for single values\n",
        "\n",
        "print(f'Prediction for input value 1: {model.predict([1])}')\n",
        "\n",
        "\n",
        "# for a list of values\n",
        "tempListforPreds = [1,2,3,4,5]\n",
        "print(f'''\n",
        "\n",
        "input List = {tempListforPreds}\n",
        "\n",
        "\n",
        "List of Predictions:\n",
        "{model.predict(tempListforPreds)}\n",
        "\n",
        "List of Predictions (flattened out):\n",
        "{model.predict(tempListforPreds).flatten()}\n",
        "''')"
      ],
      "execution_count": null,
      "outputs": [
        {
          "output_type": "stream",
          "text": [
            "Prediction for input value 1: [[2.2384841]]\n",
            "\n",
            "\n",
            "input List = [1, 2, 3, 4, 5]\n",
            "\n",
            "\n",
            "List of Predictions:\n",
            "[[2.2384841]\n",
            " [3.1256838]\n",
            " [4.0128837]\n",
            " [4.9000835]\n",
            " [5.787283 ]]\n",
            "\n",
            "List of Predictions (flattened out):\n",
            "[2.2384841 3.1256838 4.0128837 4.9000835 5.787283 ]\n",
            "\n"
          ],
          "name": "stdout"
        }
      ]
    },
    {
      "cell_type": "code",
      "metadata": {
        "id": "vJNFh6hc0K6r",
        "colab": {
          "base_uri": "https://localhost:8080/"
        },
        "outputId": "b8436a71-7b8c-4a17-ee3c-ef662fedcc4e"
      },
      "source": [
        "print(testFeatures)"
      ],
      "execution_count": null,
      "outputs": [
        {
          "output_type": "stream",
          "text": [
            "     G1\n",
            "9    14\n",
            "25    6\n",
            "28   11\n",
            "31   17\n",
            "32   17\n",
            "..   ..\n",
            "365  10\n",
            "367   7\n",
            "379  10\n",
            "381   7\n",
            "393  11\n",
            "\n",
            "[79 rows x 1 columns]\n"
          ],
          "name": "stdout"
        }
      ]
    },
    {
      "cell_type": "code",
      "metadata": {
        "id": "MniGZOu50IyN"
      },
      "source": [
        "testPreds = model.predict(testFeatures).flatten() #array of all prediction values"
      ],
      "execution_count": null,
      "outputs": []
    },
    {
      "cell_type": "code",
      "metadata": {
        "colab": {
          "base_uri": "https://localhost:8080/"
        },
        "id": "sQmMhRm_YwPL",
        "outputId": "30561880-71f8-4c5b-c7df-f834916d1764"
      },
      "source": [
        "print(len(testPreds))\n",
        "print(testPreds)"
      ],
      "execution_count": null,
      "outputs": [
        {
          "output_type": "stream",
          "text": [
            "79\n",
            "[13.772079  6.674483 11.110481 16.43368  16.43368  11.997681 13.772079\n",
            " 18.208078 18.208078  8.448882 13.772079 12.88488   8.448882  7.561682\n",
            "  9.336082 12.88488  11.110481 15.54648   7.561682 10.223282 14.659281\n",
            " 12.88488  13.772079 15.54648   7.561682  7.561682  8.448882 10.223282\n",
            " 11.997681 10.223282 11.997681 12.88488  10.223282  6.674483  9.336082\n",
            " 11.997681  7.561682  8.448882 13.772079  9.336082  9.336082  7.561682\n",
            " 11.997681  6.674483 12.88488   7.561682  7.561682 11.110481 12.88488\n",
            " 16.43368  11.997681 14.659281  9.336082 11.997681 14.659281 11.997681\n",
            " 14.659281 11.997681 14.659281 11.110481 11.997681  8.448882 15.54648\n",
            "  7.561682 15.54648  11.110481 15.54648  12.88488   8.448882  8.448882\n",
            " 11.997681 17.320879 12.88488  15.54648  10.223282  7.561682 10.223282\n",
            "  7.561682 11.110481]\n"
          ],
          "name": "stdout"
        }
      ]
    },
    {
      "cell_type": "code",
      "metadata": {
        "colab": {
          "base_uri": "https://localhost:8080/",
          "height": 361
        },
        "id": "CG7bemTBYzSl",
        "outputId": "bd2a6688-848c-44a6-c8d2-766feea73eb0"
      },
      "source": [
        "# prediciton plot --> how well is your model predicting across the actual labels\n",
        "\n",
        "def predPlot(labels, predictions):\n",
        "  plt.scatter(labels, predictions)\n",
        "  plt.ylabel('Predictions')\n",
        "  plt.xlabel('True Value or Labels')\n",
        "  plt.axis('equal')\n",
        "  plt.axis('square')\n",
        "  plt.xlim([0, plt.xlim()[1]])\n",
        "  plt.ylim([0, plt.ylim()[1]])\n",
        "  plt.show()\n",
        "\n",
        "predPlot(testLabels, testPreds)"
      ],
      "execution_count": null,
      "outputs": [
        {
          "output_type": "display_data",
          "data": {
            "image/png": "[encoded data removed]",
            "text/plain": [
              "<Figure size 576x396 with 1 Axes>"
            ]
          },
          "metadata": {
            "tags": []
          }
        }
      ]
    },
    {
      "cell_type": "code",
      "metadata": {
        "id": "iqOE-n_uY8LQ",
        "colab": {
          "base_uri": "https://localhost:8080/",
          "height": 361
        },
        "outputId": "3eeece14-a7eb-4548-c12a-d8ffa9ed7731"
      },
      "source": [
        "#error plot --> gaussian distribution \n",
        "\n",
        "def errorPlot(preds, labels, counts):\n",
        "  errors = preds - labels\n",
        "  plt.hist(errors, counts)\n",
        "  plt.xlabel('Error')\n",
        "  plt.ylabel('Counts')\n",
        "  plt.show()\n",
        "\n",
        "errorPlot(testPreds, testLabels, numEpochs)"
      ],
      "execution_count": null,
      "outputs": [
        {
          "output_type": "display_data",
          "data": {
            "image/png": "[encoded data removed]",
            "text/plain": [
              "<Figure size 576x396 with 1 Axes>"
            ]
          },
          "metadata": {
            "tags": []
          }
        }
      ]
    }
  ]
}